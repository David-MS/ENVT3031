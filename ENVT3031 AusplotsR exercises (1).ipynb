{
 "cells": [
  {
   "cell_type": "markdown",
   "metadata": {},
   "source": [
    "# ENVT3031 Practical 1: Accessing TERN Surveillance data with R"
   ]
  },
  {
   "cell_type": "markdown",
   "metadata": {},
   "source": [
    "This tutorial is modified from the \"'AusplotsR' Package and AusPlots Data Basics\"\n",
    "\n",
    "* Blanco-Martin, Bernardo (2019). Tutorial: \"'AusplotsR' Package and AusPlots Data Basics\". Terrestrial Ecology Research Network. Version 2019.06.0, June 2019. https://github.com/ternaustralia/TERN-Data-Skills/tree/master/EcosystemSurveillance_PlotData/AusPplots_BasicTutorial"
   ]
  },
  {
   "cell_type": "markdown",
   "metadata": {},
   "source": [
    "`ausplotsR` is an R package for live extraction and preparation of TERN AusPlots ecosystem monitoring data. Through `ausplotsR`, users can: \n",
    "* Directly obtain plot-based data on vegetation and soils across Australia\n",
    "* Preprocess these data into structures that facilitate the visualisation and analysis of ausplots data\n",
    "\n",
    "Data preprocessing includes the computation of:\n",
    "* Species occurrence\n",
    "* Vegetation fractional and single cover\n",
    "* Growth form\n",
    "* Basal area (see below for details)\n"
   ]
  },
  {
   "cell_type": "markdown",
   "metadata": {},
   "source": [
    "\n",
    "### The `ausplotsR` package currently includes 6 functions:\n",
    "\n",
    "* `get_ausplots`: Extracts AusPlots data in R. The stating point for any AusPlots data exploration and analysis in R. \n",
    "* `species_table`: Generates species occurrence matrices using the chosen scoring method (i.e. presence/absence, cover, frequencey, or IVI index) from a data frame of individual raw intercept hits (generated from AusPlots data using the `get_ausplots` function).\n",
    "* `fractional_cover`: Calculates fractional cover (i.e., the proportional cover of green vegetation, dead vegetation and bare substrate) from a data frame of individual raw intercept hits (generated from AusPlots data using the `get_ausplots` function).\n",
    "* `growth_form_table`: Generates occurrence matrices for NVIS plant growth forms in plots using the chosen scoring method (i.e. presence/absence, percent cover or species richness -number of species assigned to a particular growth form-) from a data frame of individual raw intercept hits (generated from AusPlots data using the `get_ausplots` function).\n",
    "* `single_cover_value`: Calculates a total vegetation cover by height and/or growh form per site from a data frame of individual raw intercept hits (generated from AusPlots data using the `get_ausplots` function). In this fucntion cover can be subsetted to vegetation over a specified height and/or by plant growth forms. By default, vegetation cover is calculated per plot for tree growth forms of 5 metres or higher (i.e. forests).\n",
    "* `basal_area`: Calculates basal area (or number of basal wedge hits) for each plot using the raw basal wedge data (generated from AusPlots data using the `get_ausplots` function).\n"
   ]
  },
  {
   "cell_type": "markdown",
   "metadata": {},
   "source": [
    "# INSTALLING and LOADING `ausplotsR`\n",
    "R libraries need to be installed and loaded before they can be used in the R environment. \n",
    "### Installing\n",
    "However, we are running R within the ecocloud enviornment which already has 'ausplotsR' installed. So we do not have to install it in this instance. If you are trying to complete these excersises in a different computer environment I suggest you see the examples in the \"'AusplotsR' Package and AusPlots Data Basics\" (see link above).\n",
    "### Loading 'ausplotsR'\n",
    "All libraries that are used in R must be loaded before they are available. This is achieved through the simple command below."
   ]
  },
  {
   "cell_type": "code",
   "execution_count": 1,
   "metadata": {
    "collapsed": true,
    "jupyter": {
     "outputs_hidden": true
    }
   },
   "outputs": [
    {
     "name": "stderr",
     "output_type": "stream",
     "text": [
      "Loading required package: plyr\n",
      "Loading required package: R.utils\n",
      "Loading required package: R.oo\n",
      "Loading required package: R.methodsS3\n",
      "R.methodsS3 v1.7.1 (2016-02-15) successfully loaded. See ?R.methodsS3 for help.\n",
      "Registered S3 method overwritten by 'R.oo':\n",
      "  method        from       \n",
      "  throw.default R.methodsS3\n",
      "R.oo v1.22.0 (2018-04-21) successfully loaded. See ?R.oo for help.\n",
      "\n",
      "Attaching package: ‘R.oo’\n",
      "\n",
      "The following objects are masked from ‘package:methods’:\n",
      "\n",
      "    getClasses, getMethods\n",
      "\n",
      "The following objects are masked from ‘package:base’:\n",
      "\n",
      "    attach, detach, gc, load, save\n",
      "\n",
      "R.utils v2.9.0 successfully loaded. See ?R.utils for help.\n",
      "\n",
      "Attaching package: ‘R.utils’\n",
      "\n",
      "The following object is masked from ‘package:utils’:\n",
      "\n",
      "    timestamp\n",
      "\n",
      "The following objects are masked from ‘package:base’:\n",
      "\n",
      "    cat, commandArgs, getOption, inherits, isOpen, nullfile, parse,\n",
      "    warnings\n",
      "\n",
      "Loading required package: simba\n",
      "Loading required package: vegan\n",
      "Loading required package: permute\n",
      "\n",
      "Attaching package: ‘permute’\n",
      "\n",
      "The following object is masked from ‘package:R.oo’:\n",
      "\n",
      "    check\n",
      "\n",
      "Loading required package: lattice\n",
      "This is vegan 2.5-6\n",
      "This is simba 0.3-5\n",
      "\n",
      "Attaching package: ‘simba’\n",
      "\n",
      "The following object is masked from ‘package:stats’:\n",
      "\n",
      "    mad\n",
      "\n",
      "Loading required package: httr\n",
      "Loading required package: jsonlite\n",
      "\n",
      "Attaching package: ‘jsonlite’\n",
      "\n",
      "The following object is masked from ‘package:R.utils’:\n",
      "\n",
      "    validate\n",
      "\n",
      "Loading required package: jose\n",
      "Loading required package: openssl\n",
      "Warning message:\n",
      "“replacing previous import ‘R.utils::validate’ by ‘jsonlite::validate’ when loading ‘ausplotsR’”"
     ]
    }
   ],
   "source": [
    "## Load the package\n",
    "library(ausplotsR)"
   ]
  },
  {
   "cell_type": "markdown",
   "metadata": {},
   "source": [
    "Help on the `ausplotsR` package and a vignette with a guide on how to use the package can be obtained with the code below"
   ]
  },
  {
   "cell_type": "code",
   "execution_count": null,
   "metadata": {},
   "outputs": [],
   "source": [
    "#help(ausplotsR)\n",
    "#browseVignettes(package=\"ausplotsR\")"
   ]
  },
  {
   "cell_type": "markdown",
   "metadata": {},
   "source": [
    "# Part 1: OBTAIN & EXPLORE AusPlots DATA: `get_ausplots` function\n",
    "\n",
    "The `get_ausplots` function extracts and compiles AusPlots data. \n",
    "\n",
    "Data of specific types, sites, geographical locations, and/or species can be requested via the function arguments.\n",
    "\n",
    "*DATA TYPES:* Up to 8 different types of data can be obtained by setting the corresponding arguments to TRUE/FALSE:\n",
    "\n",
    "  * `site_info`: Site summary data. Includes (among others): plot and visit details, landform data, geographic coordinates, and notes. Included by default. Site summary data are stored in the `site.info` data frame.\n",
    "  * `structural_summaries`: Site vegetation structural summaries. Site vegetation structural summary data are stored in the `struct.summ` data frame.\n",
    "  * `veg.vouchers`: Complete set of species records for the plot determined by a herbarium plus ID numbers for silica-dried tissue samples. Included by default. Vegetation vouchers data are stored in the `veg.vouch` data frame. \n",
    "  * `veg.PI`: Point Intercept (PI) data. Includes data on: substrate, plant species, growth form and height, etc at each of (typically) 1010 points per plot. Included by default. Vegetation point intercept data are stored in the `veg.PI` data frame.\n",
    "  * `basal.wedge`: Basal Wedge Data Raw Hits. These data are required for the calculation of Basal Area by Species by Plot. Basal wedge data are stored in the `veg.basal` data frame.\n",
    "  * `soil_subsites`: Information on what soil and soil metagenomics samples were taken at nine locations across the plot and their identification barcode numbers. Soil and soil metagenomics data are stored in the `soil.subsites` data frame. \n",
    "  * `soil_bulk_density`: Soil bulk density. Soil bulk density data are stored in the `soil.bulk` data frame.\n",
    "  * `soil_character`: Soil characterisation and sample ID data at 10 cm increments to a depth of 1 m. Soil characterisation and sample ID data are stored in the `soil.char` data frame.\n",
    "\n",
    "*SPATIAL FILTERING:* AusPlot data can be spatially subset via the `get_ausplots` function arguments in two ways:\n",
    "\n",
    "  * `my.Plot_IDs`: Character vector with the plots IDs of specific AusPlots plots. \n",
    "  * `bounding_box`: Spatial filter for selecting AusPlots based on a rectangular box, in the format of e.g. c(xmin, xmax, ymin, ymax). AusPlots spatial data are are in longlat, thus x is the longitude and y is the latitude of the box/extent object (e.g., c(120, 140, -30, -10)).  "
   ]
  },
  {
   "cell_type": "markdown",
   "metadata": {},
   "source": [
    "## Example 1: In this example we download all the available data at three ausplot sites\n",
    "\n",
    "* The following code makes an extracts all availalbe data from the database for three sites in SA, Qld. and the NT\n",
    "* The code puts the extracted data into the 'list object' called 'AP.data'\n",
    "* AP.data contains a series of data frames (fancy R tables) that we will explore in the rest of the practical"
   ]
  },
  {
   "cell_type": "code",
   "execution_count": 2,
   "metadata": {},
   "outputs": [
    {
     "name": "stdout",
     "output_type": "stream",
     "text": [
      "User-supplied Plot_IDs located. \n"
     ]
    }
   ],
   "source": [
    "# Obtain the data ('site_info', 'veg.vouchers', and 'veg.PI' are retrieve by default)\n",
    "AP.data = get_ausplots( my.Plot_IDs=c(\"SATFLB0004\", \"QDAMGD0022\", \"NTASTU0002\"),\n",
    "                        structural_summaries=TRUE, basal.wedge=TRUE,\n",
    "                        soil_subsites=TRUE, soil_bulk_density=TRUE, soil_character=TRUE  )"
   ]
  },
  {
   "cell_type": "markdown",
   "metadata": {},
   "source": [
    "* Explore retrieved data by running the subsequent cells and thinking about what is returned"
   ]
  },
  {
   "cell_type": "code",
   "execution_count": null,
   "metadata": {},
   "outputs": [],
   "source": [
    "# By typeing class(AP.data) we are told that the data structure is a 'list'\n",
    "class(AP.data)"
   ]
  },
  {
   "cell_type": "code",
   "execution_count": null,
   "metadata": {},
   "outputs": [],
   "source": [
    "# By running 'summary(AP.data)' we are given a summary of the list\n",
    "summary(AP.data)\n",
    "\n",
    "# You can see that there are 7 different data frames\n",
    "# These data frames match what is listed under Part 1 above"
   ]
  },
  {
   "cell_type": "markdown",
   "metadata": {},
   "source": [
    "* We can use the dollar sign ($) to get data from a lower level in the list object"
   ]
  },
  {
   "cell_type": "code",
   "execution_count": null,
   "metadata": {},
   "outputs": [],
   "source": [
    "# The following code isolates one of the dataframes in AP.data\n",
    "# So here we are selecting one of the dataframes in the larger list of dataframes\n",
    "\n",
    "AP.data.siteinfo = AP.data$site.info"
   ]
  },
  {
   "cell_type": "code",
   "execution_count": null,
   "metadata": {},
   "outputs": [],
   "source": [
    "# We can use the same code as above to examine the new object\n",
    "# Notice that now the output is a data frame\n",
    "class(AP.data.siteinfo)"
   ]
  },
  {
   "cell_type": "code",
   "execution_count": null,
   "metadata": {},
   "outputs": [],
   "source": [
    "# Data frames have rows and columns - just like an excel spreadsheet\n",
    "# The rows in the data frame are each of the ausplot sites\n",
    "# The columns in the data frame are the different properties at each of those sites\n",
    "# When we ask for the summary of the data frame we are given all the column headings of the data frame \n",
    "summary(AP.data.siteinfo)"
   ]
  },
  {
   "cell_type": "code",
   "execution_count": null,
   "metadata": {},
   "outputs": [],
   "source": [
    "# This is very messy so we can also look at the first 6 rows of the dataframe\n",
    "head(AP.data.siteinfo)"
   ]
  },
  {
   "cell_type": "code",
   "execution_count": null,
   "metadata": {},
   "outputs": [],
   "source": [
    "# We can also see how many plots there are in the data frame by asking how many rows there are with the following\n",
    "nrow(AP.data.siteinfo)"
   ]
  },
  {
   "cell_type": "markdown",
   "metadata": {},
   "source": [
    "### It is also useful to save data frames off as another format such as csv\n",
    "### Use the code below to save the new data frame to csv\n",
    "* Once you have saved it, open it from the menu on the left and look at it's contents"
   ]
  },
  {
   "cell_type": "code",
   "execution_count": null,
   "metadata": {},
   "outputs": [],
   "source": [
    "# Save an AusPlots derived Data Frame (generated for pre-processing), using 'write.csv'\n",
    "# =====================================================================================\n",
    "# Provide Path for Directory where data will be stored\n",
    "file.path = \"workspace\"\n",
    "# Create Name of the file to be stored\n",
    "file.name = \"site.info.eg1.csv\" #############  TYPE HERE WHAT YOU WANT TO CALL YOUR FILE\n",
    "# Save the Basal Area data to a Text File with columns separated by tabs\n",
    "write.csv(AP.data.siteinfo, paste(file.path, file.name, sep=\"/\"))"
   ]
  },
  {
   "cell_type": "markdown",
   "metadata": {},
   "source": [
    "## Example 2: In this example we extract data for Adelaide and its sourrounding area\n",
    "\n",
    "* The following code extracts data for Adelaide (34.92866S  138.59863E) and its sourrounding area\n",
    "* This time the code puts the extracted data into the 'list object' called 'AP.data.AdelReg'"
   ]
  },
  {
   "cell_type": "code",
   "execution_count": null,
   "metadata": {},
   "outputs": [],
   "source": [
    "# 'site_info', 'veg.vouchers', and 'veg.PI' data retrived for Adelaide (34.92866S  138.59863E) and its sourrounding area\n",
    "# Notice that we do not ask for structural_summaries, basal.wedge, soil_subsites, soil_bulk_density or soil_character like we did in the first example\n",
    "AP.data.AdelReg = get_ausplots(bounding_box=c(138.1, 139.1, -34.5, -35.5))"
   ]
  },
  {
   "cell_type": "code",
   "execution_count": null,
   "metadata": {},
   "outputs": [],
   "source": [
    "# Using the same commands that we used before explore the new output\n",
    "\n",
    "summary(AP.data.AdelReg)"
   ]
  },
  {
   "cell_type": "code",
   "execution_count": null,
   "metadata": {},
   "outputs": [],
   "source": [
    "# Make a separate data frame of veg.vouch \n",
    "# Remember the veg.vouch dataframe details the different species found at the site \n",
    "\n",
    "AP.data.AdelReg.vegvouch = AP.data.AdelReg$veg.vouch"
   ]
  },
  {
   "cell_type": "code",
   "execution_count": null,
   "metadata": {},
   "outputs": [],
   "source": [
    "# Using the same commands that we used before explore the new output\n",
    "class(AP.data.AdelReg.vegvouch)  \n",
    "summary(AP.data.AdelReg.vegvouch)"
   ]
  },
  {
   "cell_type": "code",
   "execution_count": null,
   "metadata": {},
   "outputs": [],
   "source": [
    "# Again, examine the first 6 rows of the dataframe \n",
    "head(AP.data.AdelReg.vegvouch)"
   ]
  },
  {
   "cell_type": "markdown",
   "metadata": {
    "jupyter": {
     "outputs_hidden": true
    }
   },
   "source": [
    "### Use the code below to save the new data frame to csv\n",
    "\n",
    "* Open the csv and look at the types of information in it, note that it is considerably different from the site_info.\n",
    "* Why is this?"
   ]
  },
  {
   "cell_type": "code",
   "execution_count": null,
   "metadata": {},
   "outputs": [],
   "source": [
    "# Save an AusPlots derived Data Frame (generated for pre-processing), using 'write.csv'\n",
    "# =====================================================================================\n",
    "# Provide Path for Directory where data will be stored\n",
    "file.path = \"workspace\"\n",
    "# Create Name of the file to be stored\n",
    "file.name = \"veg.vouch.eg2.csv\" #############  TYPE HERE WHAT YOU WANT TO CALL YOUR FILE\n",
    "# Save the Basal Area data to a Text File with columns separated by tabs\n",
    "write.csv(AP.data.AdelReg.vegvouch, paste(file.path, file.name, sep=\"/\"))"
   ]
  },
  {
   "cell_type": "markdown",
   "metadata": {},
   "source": [
    "## Example 3A: Get data for a transect in South Australia"
   ]
  },
  {
   "cell_type": "code",
   "execution_count": null,
   "metadata": {},
   "outputs": [],
   "source": [
    "# make a list of sites\n",
    "transect_list <- c('SATEYB0001', 'SATEYB0002', 'SATFLB0001', 'SATFLB0002', 'SATFLB0003', 'SATFLB0004', 'SATFLB0005', 'SATFLB0006', \n",
    "                   'SATFLB0007', 'SATFLB0008', 'SATFLB0009', 'SATFLB0010', 'SATFLB0011', 'SATFLB0012', 'SATFLB0013', 'SATFLB0014', \n",
    "                   'SATFLB0015', 'SATFLB0016', 'SATFLB0017', 'SATFLB0018', 'SATFLB0019', 'SATFLB0020', 'SATFLB0021', 'SATFLB0022', \n",
    "                   'SATFLB0023', 'SATFLB0024', 'SATFLB0025', 'SATFLB0026', 'SATFLB0027', 'SATFLB0028', 'SATKAN0001', 'SATKAN0002', \n",
    "                   'SATKAN0003', 'SATKAN0004', 'SATSTP0001', 'SATSTP0002', 'SATSTP0003', 'SATSTP0004', 'SATSTP0005', 'SATSTP0006', \n",
    "                   'SATSTP0007', 'SATSTP0008'\n",
    "                  )"
   ]
  },
  {
   "cell_type": "code",
   "execution_count": null,
   "metadata": {},
   "outputs": [],
   "source": [
    "# Here we filter by variables in the 'veg.PI' data frame\n",
    "AP.data.transect = get_ausplots( my.Plot_IDs=transect_list, \n",
    "                       structural_summaries=TRUE, \n",
    "                       basal.wedge=TRUE)"
   ]
  },
  {
   "cell_type": "code",
   "execution_count": null,
   "metadata": {},
   "outputs": [],
   "source": [
    "summary(AP.data.transect)\n"
   ]
  },
  {
   "cell_type": "code",
   "execution_count": null,
   "metadata": {},
   "outputs": [],
   "source": [
    "# For a number of reasons we want to remove three unique sites (SATFLB0023-58712, SATFLB0024-58713, SATFLB0025-58714) from our analysis \n",
    "# Here we remove those sites and we will use this later in the analysis\n",
    "\n",
    "AP.data.transect.site_info <- AP.data.transect$site.info\n",
    "AP.data.transect.site_info <-AP.data.transect.site_info[!(AP.data.transect.site_info$site_unique==\"SATFLB0023-58712\" | \n",
    "                                      AP.data.transect.site_info$site_unique==\"SATFLB0024-58713\" | \n",
    "                                      AP.data.transect.site_info$site_unique==\"SATFLB0025-58714\"),]"
   ]
  },
  {
   "cell_type": "code",
   "execution_count": null,
   "metadata": {},
   "outputs": [],
   "source": [
    "# Now we are going to limit the number of columns to just the information that we want\n",
    "AP.data.site_coord = data.frame(site_unique=AP.data.transect.site_info$site_unique, \n",
    "                               latitude=AP.data.transect.site_info$latitude,\n",
    "                               longitude=AP.data.transect.site_info$longitude\n",
    "                              )"
   ]
  },
  {
   "cell_type": "markdown",
   "metadata": {},
   "source": [
    "### The code below saves the dataframe that you just made as a csv file\n",
    "* Once you have saved the dataframe, open it from the menu on the left and examine the contents\n",
    "\n",
    "* **How does this new csv compare with \"site.info.eg1.csv\" from example 1?**\n",
    "* **Why is this so?**"
   ]
  },
  {
   "cell_type": "code",
   "execution_count": null,
   "metadata": {},
   "outputs": [],
   "source": [
    "# Save an AusPlots derived Data Frame using 'write.csv'\n",
    "# =====================================================================================\n",
    "# Provide Path for Directory where data will be stored\n",
    "file.path = \"workspace\"\n",
    "# Create Name of the file to be stored\n",
    "file.name = \"AP.data.site_coord.csv\" #############  TYPE HERE WHAT YOU WANT TO CALL YOUR FILE\n",
    "# Save the veg cover data to a Text File with columns separated by tabs\n",
    "write.csv(AP.data.site_coord, paste(file.path, file.name, sep=\"/\"))"
   ]
  },
  {
   "cell_type": "code",
   "execution_count": null,
   "metadata": {},
   "outputs": [],
   "source": []
  },
  {
   "cell_type": "markdown",
   "metadata": {},
   "source": [
    "# Vegetation Cover data by Height\n",
    "## `single_cover_value` function\n",
    "\n",
    "The `single_cover_value` function in the `auplotsR` package calculates Vegetation Cover Values for particular Growth Form Types and/or Height Thresholds per Site from Raw AusPlots Vegetation Point Intercept data. The `growth_form_table` function can also be used to calculate Cover Values for all Vegetation Growth Form Types; however, `single_cover_value` can perform these computations for:\n",
    "* Particular vegetation growth form types (i.e. for individual growth forms or any combination of growth form types).\n",
    "* Vegetation higher that a specified height threshold\n",
    "* Vegetation with any combination of growth form types and minimum height\n",
    "\n",
    "Specifically `single_cover_value` takes the following inputs via its arguments:\n",
    "* `veg.PI`: Raw Vegetation Point Intercept data from AusPlots. A veg.PI data frame generated by the `get_ausplots` function (see above).\n",
    "* `in_canopy_sky`: Method used to calculate Cover. A logical value that indicates whether to use in ‘canopy sky hits’ (i.e. calculate ‘opaque canopy cover’) or ‘projected foliage cover’. The default value, ‘FALSE’, calculates ‘projected foliage cover’. To calculate ‘opaque canopy cover’ the argument must be set to ‘TRUE’.\n",
    "* `by.growth_form`: Whether to calculate Cover for a Subset by Growth Form type. A logical value that indicates whether to subset by growth form type. The default, ‘TRUE’, calculates cover for the growth form types specified in the argument ‘my.growth_forms’ (see next). If set to ‘FALSE’, cover calculations are conducted only for the vegetation sub-set by a provided Minimum Height Threshold.\n",
    "* `my.growth_forms`: Growth Form Types used to Subset Data used for the Cover Calculations. A character vector specifying the growth form types to subset the data used for the cover calculations. Any combination of growth form types can be used. The default, ‘c(\"Tree/Palm\", \"Tree Mallee\")’, is set to represent trees. It applies only when ‘by.growth_form=TRUE’; otherwise, this argument is ignored and only height sub-setting is applied.\n",
    "* `min.height`: Minimum Height Threshold used to Subset Data used for the Cover Calculations. A numeric value indicating the minimum height (in metres) of the vegetation to be included in the subset of the data used for the cover calculations. A height must be always provided. The default, ‘5’, is set up for a cover of trees. It can be set to ‘0’ to ignore height and thus include any plant hit. If set to a ‘negative number’, it will return nonsensical output.\n",
    "\n",
    "The `single_cover_value` function returns a data frame with two columns. The data frame rows correspond to unique sites, while the two columns correspond to the unique site and the percentage cover for the requested subset of vegetation (e.g. “Tree/Palm” higher than '5' metres).\n",
    " \n",
    "When `by.growth_form = FALSE` and `min.height = 0`, the output is nearly the same as the green cover fraction returned by the `fractional_cover` function (see above). The values can differ because ‘fractional_cover’ applies a ‘height rule’ in which the highest intercept at a given point is taken, whereas ‘single_cover_value’ finds any green cover. For example, when dead trees overhang green understorey the values returned by both functions can differ. For general cover purposes, using ‘fractional_cover’ is recommended.  ‘single_cover_value’ is best suited to calculate cover subset by height and growth form.\n"
   ]
  },
  {
   "cell_type": "markdown",
   "metadata": {},
   "source": [
    "## Example 3B: Explore veg cover for the transect in South Australia using the single cover value function"
   ]
  },
  {
   "cell_type": "markdown",
   "metadata": {},
   "source": [
    "### Here we will extract a dataframe that contains the percentage cover for all sites the data across the transect\n",
    "### Notice that we are asking for all the data (min.height=0)"
   ]
  },
  {
   "cell_type": "code",
   "execution_count": null,
   "metadata": {},
   "outputs": [],
   "source": [
    "# Create a dataframe of all Vegetation Cover > 0m\n",
    "AP.data.transect.vegPI.gt0 = single_cover_value(AP.data.transect$veg.PI, min.height=0)"
   ]
  },
  {
   "cell_type": "code",
   "execution_count": null,
   "metadata": {},
   "outputs": [],
   "source": [
    "# Join the new vegetation dataframe with the AP.data.site_coord dataframe\n",
    "AP.data.transect.vegPI.gt0 <- merge(AP.data.transect.vegPI.gt0, AP.data.site_coord, by = 'site_unique')"
   ]
  },
  {
   "cell_type": "code",
   "execution_count": null,
   "metadata": {},
   "outputs": [],
   "source": [
    "head(AP.data.transect.vegPI.gt0)"
   ]
  },
  {
   "cell_type": "markdown",
   "metadata": {},
   "source": [
    "### Save the dataframe as a csv"
   ]
  },
  {
   "cell_type": "code",
   "execution_count": null,
   "metadata": {},
   "outputs": [],
   "source": [
    "# Save an AusPlots derived Data Frame using 'write.csv'\n",
    "# =====================================================================================\n",
    "# Provide Path for Directory where data will be stored\n",
    "file.path = \"workspace\"\n",
    "# Create Name of the file to be stored\n",
    "file.name = \"trans.VC.gt0.csv\" #############  TYPE HERE WHAT YOU WANT TO CALL YOUR FILE\n",
    "# Save the veg cover data to a Text File with columns separated by tabs\n",
    "write.csv(AP.data.transect.vegPI.gt0, paste(file.path, file.name, sep=\"/\"))"
   ]
  },
  {
   "cell_type": "markdown",
   "metadata": {},
   "source": [
    "#### Here we will also get the percentage cover, but now only for vegetation with a minimum height of 2m (min.height=2)"
   ]
  },
  {
   "cell_type": "code",
   "execution_count": null,
   "metadata": {},
   "outputs": [],
   "source": [
    "# Create a dataframe of Vegetation Cover > 2m\n",
    "AP.data.transect.vegPI.gt2 = single_cover_value(AP.data.transect$veg.PI, min.height=2)"
   ]
  },
  {
   "cell_type": "code",
   "execution_count": null,
   "metadata": {},
   "outputs": [],
   "source": [
    "# Join the new vegetation dataframe with the AP.data.site_coord dataframe\n",
    "AP.data.transect.vegPI.gt2 <- merge(AP.data.transect.vegPI.gt2, AP.data.site_coord, by = 'site_unique')"
   ]
  },
  {
   "cell_type": "markdown",
   "metadata": {},
   "source": [
    "### Save the dataframe as CSV"
   ]
  },
  {
   "cell_type": "code",
   "execution_count": null,
   "metadata": {},
   "outputs": [],
   "source": [
    "# Save an AusPlots derived Data Frame using 'write.csv'\n",
    "# =====================================================================================\n",
    "# Provide Path for Directory where data will be stored\n",
    "file.path = \"workspace\"\n",
    "# Create Name of the file to be stored\n",
    "file.name = \"trans.VC.gt2.csv\" #############  TYPE HERE WHAT YOU WANT TO CALL YOUR FILE\n",
    "# Save the veg cover data to a Text File with columns separated by tabs\n",
    "write.csv(AP.data.transect.vegPI.gt2, paste(file.path, file.name, sep=\"/\"))"
   ]
  },
  {
   "cell_type": "markdown",
   "metadata": {},
   "source": [
    "## Now we can also join the dataframes together"
   ]
  },
  {
   "cell_type": "code",
   "execution_count": null,
   "metadata": {},
   "outputs": [],
   "source": [
    "# Combine the results into a single data frame \n",
    "# -----------------------------------------------------------------\n",
    "AP.data.VC.Height = data.frame(site_unique=AP.data.transect.site_info$site_unique, \n",
    "                               VCF.gt0=AP.data.transect.vegPI.gt0$percentCover, \n",
    "                               VCF.gt2=AP.data.transect.vegPI.gt2$percentCover, \n",
    "                               latitude=AP.data.transect.site_info$latitude,\n",
    "                               longitude=AP.data.transect.site_info$longitude\n",
    "                              )\n",
    "head(AP.data.VC.Height)"
   ]
  },
  {
   "cell_type": "markdown",
   "metadata": {},
   "source": [
    "### Save the combined dataframe as a CSV\n",
    "* Open the three csv files from the above exercises and compare their contents\n",
    "* **What is the difference?**"
   ]
  },
  {
   "cell_type": "code",
   "execution_count": null,
   "metadata": {},
   "outputs": [],
   "source": [
    "# Save an AusPlots derived Data Frame using 'write.csv'\n",
    "# =====================================================================================\n",
    "# Provide Path for Directory where data will be stored\n",
    "file.path = \"workspace\"\n",
    "# Create Name of the file to be stored\n",
    "file.name = \"VCF.Height.csv\" #############  TYPE HERE WHAT YOU WANT TO CALL YOUR FILE\n",
    "# Save the veg cover data to a Text File with columns separated by tabs\n",
    "write.csv(AP.data.VC.Height, paste(file.path, file.name, sep=\"/\"))"
   ]
  },
  {
   "cell_type": "markdown",
   "metadata": {},
   "source": [
    "## Example 3C: Explore vegetation fractional cover\n",
    "In the above exercises you looked at the total cover over different sites.\n",
    "However, we can also extract the vegetation cover by fractional cover classes. <br><br>\n",
    "Fractional cover classes are:\n",
    "* photosynthetic vegetation\n",
    "* non-photosynthetic vegetation \n",
    "* bare ground"
   ]
  },
  {
   "cell_type": "code",
   "execution_count": null,
   "metadata": {},
   "outputs": [],
   "source": [
    "# Create a dataframe with fractional cover\n",
    "# You will get an error message, this is just telling you that you have some missing data\n",
    "AP.data.transect.FC = fractional_cover(AP.data.transect$veg.PI)"
   ]
  },
  {
   "cell_type": "code",
   "execution_count": null,
   "metadata": {},
   "outputs": [],
   "source": [
    "# Join the new vegetation dataframe with the AP.data.site_coord dataframe\n",
    "AP.data.transect.FC <- merge(AP.data.transect.FC, AP.data.site_coord, by = 'site_unique')"
   ]
  },
  {
   "cell_type": "code",
   "execution_count": null,
   "metadata": {},
   "outputs": [],
   "source": [
    "head(AP.data.transect.FC)"
   ]
  },
  {
   "cell_type": "markdown",
   "metadata": {},
   "source": [
    "### Join all the dataframes from Example 3 into a singe file"
   ]
  },
  {
   "cell_type": "code",
   "execution_count": null,
   "metadata": {},
   "outputs": [],
   "source": [
    "\n",
    "AP.data.FC.save = data.frame(site_unique=AP.data.transect.site_info$site_unique, \n",
    "                               VCF.gt0=AP.data.transect.vegPI.gt0$percentCover, \n",
    "                               VCF.gt2=AP.data.transect.vegPI.gt2$percentCover, \n",
    "                               fc.bare=AP.data.transect.FC$bare,\n",
    "                               fc.brown=AP.data.transect.FC$brown,\n",
    "                               fc.green=AP.data.transect.FC$green,\n",
    "                               latitude=AP.data.transect.site_info$latitude,\n",
    "                               longitude=AP.data.transect.site_info$longitude\n",
    "                              )"
   ]
  },
  {
   "cell_type": "markdown",
   "metadata": {},
   "source": [
    "### Save the new data frame as a unique CSV file\n",
    "* **Compare the new csv file with the previous files**\n",
    "* **Do you notice anything different?**"
   ]
  },
  {
   "cell_type": "code",
   "execution_count": null,
   "metadata": {},
   "outputs": [],
   "source": [
    "# Save an AusPlots derived Data Frame using 'write.csv'\n",
    "# =====================================================================================\n",
    "# Provide Path for Directory where data will be stored\n",
    "file.path = \"workspace\"\n",
    "# Create Name of the file to be stored\n",
    "file.name.sting = \"trans.FC.csv\" #############  TYPE HERE WHAT YOU WANT TO CALL YOUR FILE\n",
    "# Save the veg cover data to a Text File with columns separated by tabs\n",
    "write.csv(AP.data.FC.save, paste(file.path, file.name.sting, sep=\"/\"))"
   ]
  },
  {
   "cell_type": "markdown",
   "metadata": {},
   "source": [
    "# Species occurrence matrices\n",
    "In this section, we will explore to how to obtain and use species occurrence data from AusPlots raw data. In particular, we will examine species cover/abundance, species presence/absence, multiple indices of species diversity, and rank-abundance plots for the sites in the 5 most sampled bioregions. \n",
    "\n",
    "The first step to work with species-level AusPlots data is to create a species occurrence matrix. The 'species_table' function in the 'ausplotsR' package can be used to effortlessly create this type of matrix. This function takes a data frame of individual raw point intercept hits (i.e. a 'veg.PI' data frame) generated using the 'get_ausplots' function and returns a 'species against sites' matrix. Four metrics can be selected to score species occurrence: \n",
    "\n",
    " * Presence/Absence: Set by the argument 'm_kind = PA'.\n",
    " * Percent Cover: Based on total frequency of hits. This is the most commonly used metric. Set by the argument 'm_kind = percent_cover'.\n",
    " * Frequency: Based on proportional frequencies of presence on the 10 individual transects within a plot. Set by the argument 'm_kind = freq'. It can be a measure of importance for low cover species.\n",
    "## Example 4: Explore matricies\n",
    "\n",
    "#### In this following cell you will create a dataframe that provides presence abcence data for each species "
   ]
  },
  {
   "cell_type": "code",
   "execution_count": null,
   "metadata": {},
   "outputs": [],
   "source": [
    "# species precence absence (PA)\n",
    "AP.data.transect.vegPI.PA = species_table(AP.data.transect$veg.PI, m_kind=\"PA\")\n",
    "AP.data.transect.vegPI.PA$site_unique <- rownames(AP.data.transect.vegPI.PA)"
   ]
  },
  {
   "cell_type": "code",
   "execution_count": null,
   "metadata": {},
   "outputs": [],
   "source": [
    "# Join the new vegetation dataframe with the AP.data.site_coord dataframe\n",
    "AP.data.transect.vegPI.PA <- merge(AP.data.transect.vegPI.PA, AP.data.site_coord, by = 'site_unique')"
   ]
  },
  {
   "cell_type": "markdown",
   "metadata": {
    "jupyter": {
     "outputs_hidden": true
    }
   },
   "source": [
    "### Save the new data frame as a unique CSV file\n",
    "* Examine the CSV and answer the following questions. You may want to download the CSV to explore this fully.\n",
    "* **How many times is Acacia pycnantha observed across the transect?**\n",
    "* **What species is observed the most?**\n",
    "* **What site has the most species?**"
   ]
  },
  {
   "cell_type": "code",
   "execution_count": null,
   "metadata": {},
   "outputs": [],
   "source": [
    "# Save an AusPlots derived Data Frame using 'write.csv'\n",
    "# =====================================================================================\n",
    "# Provide Path for Directory where data will be stored\n",
    "file.path = \"workspace\"\n",
    "# Create Name of the file to be stored\n",
    "file.name = \"sp_table_pa.csv\" #############  TYPE HERE WHAT YOU WANT TO CALL YOUR FILE\n",
    "# Save the veg cover data to a Text File with columns separated by tabs\n",
    "write.csv(AP.data.transect.vegPI.PA, paste(file.path, file.name, sep=\"/\"))"
   ]
  },
  {
   "cell_type": "markdown",
   "metadata": {},
   "source": [
    "# The end"
   ]
  }
 ],
 "metadata": {
  "kernelspec": {
   "display_name": "R [conda env:r36]",
   "language": "R",
   "name": "conda-env-r36-r"
  },
  "language_info": {
   "codemirror_mode": "r",
   "file_extension": ".r",
   "mimetype": "text/x-r-source",
   "name": "R",
   "pygments_lexer": "r",
   "version": "3.6.1"
  }
 },
 "nbformat": 4,
 "nbformat_minor": 4
}
