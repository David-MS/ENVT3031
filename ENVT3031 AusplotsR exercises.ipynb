{
 "cells": [
  {
   "cell_type": "markdown",
   "metadata": {},
   "source": [
    "# ENVT3031 Practical 1: Accessing TERN Surveillance data with R\n",
    "\n",
    "### This tutorial is modified from the \"'AusplotsR' Package and AusPlots Data Basics\"\n",
    "\n",
    "Blanco-Martin, Bernardo (2019). Tutorial: \"'AusplotsR' Package and AusPlots Data Basics\". Terrestrial Ecology Research Network. Version 2019.06.0, June 2019. https://github.com/ternaustralia/TERN-Data-Skills/tree/master/EcosystemSurveillance_PlotData/AusPplots_BasicTutorial\n"
   ]
  },
  {
   "cell_type": "markdown",
   "metadata": {},
   "source": [
    "## ECOSYSTEM SURVEILLANCE (AusPlots)  TUTORIAL: `ausplotsR` PACKAGE AND AusPlots DATA BASICS"
   ]
  },
  {
   "cell_type": "markdown",
   "metadata": {},
   "source": [
    "This document contains a tutorial that provides an overview of the `ausplotsR` package functionality, as well as an introduction to TERN's Ecosystem Surveillance (AusPlots) data. TERN's Data Skills Development Program (DSDP) \"ECOSYSTEM SURVEILLANCE (AusPlots)  TUTORIAL: UNDERSTANDING AND USING THE 'ausplotsR' PACKAGE AND AusPlots DATA\" tutorial provides addtional information and multiple archetypal applications of AusPlots data and the `ausplotsR` package. Additional examples are provided in TERN's DSDP \"ausplotsR Examples and Applications\" R scripts. All of these materials can be found in TERN's DSDP 'EcosystemSurveillance_PlotData' folder in GitHub [here](https://github.com/ternaustralia/TERN-Data-Skills/tree/master/EcosystemSurveillance_PlotData). \n",
    "\n",
    "`ausplotsR` is an R package for live extraction and preparation of TERN AusPlots ecosystem monitoring data. Through `ausplotsR`, users can: (1) directly obtain plot-based data on vegetation and soils across Australia, and (2) preprocess these data into structures that facilitate the visualisation and analysis of ausplots data. Data preprocessing includes the computation of species occurrence, vegetation fractional and single cover, growth form, and basal area (see below for details).\n",
    "\n",
    "The `ausplotsR` package currently includes 6 functions:\n",
    "\n",
    "* `get_ausplots`: Extracts AusPlots data in R. The stating point for any AusPlots data exploration and analysis in R. \n",
    "* `species_table`: Generates species occurrence matrices using the chosen scoring method (i.e. presence/absence, cover, frequencey, or IVI index) from a data frame of individual raw intercept hits (generated from AusPlots data using the `get_ausplots` function).\n",
    "* `fractional_cover`: Calculates fractional cover (i.e., the proportional cover of green vegetation, dead vegetation and bare substrate) from a data frame of individual raw intercept hits (generated from AusPlots data using the `get_ausplots` function).\n",
    "* `growth_form_table`: Generates occurrence matrices for NVIS plant growth forms in plots using the chosen scoring method (i.e. presence/absence, percent cover or species richness -number of species assigned to a particular growth form-) from a data frame of individual raw intercept hits (generated from AusPlots data using the `get_ausplots` function).\n",
    "* `single_cover_value`: Calculates a total vegetation cover by height and/or growh form per site from a data frame of individual raw intercept hits (generated from AusPlots data using the `get_ausplots` function). In this fucntion cover can be subsetted to vegetation over a specified height and/or by plant growth forms. By default, vegetation cover is calculated per plot for tree growth forms of 5 metres or higher (i.e. forests).\n",
    "* `basal_area`: Calculates basal area (or number of basal wedge hits) for each plot using the raw basal wedge data (generated from AusPlots data using the `get_ausplots` function).\n"
   ]
  },
  {
   "cell_type": "markdown",
   "metadata": {},
   "source": [
    "# Part 1: INSTALLING and LOADING `ausplotsR`\n",
    "\n",
    "To run the R scripts in this tutorial the `ausplotsR` library must be installed and loaded.\n",
    "\n",
    "The first step to install packages in R is selecting the CRAN (Comprehensive R Archive Network) mirror. Mirror selection and package installation can be done via R’s menu (Packages/Set CRAN mirror… followed by Packages/install package(s)…) or programmatically the via the function 'install.packages' (selecting the CRAN mirror using the argument 'repos'). Typically it is best to choose the cloud mirror (which automatically redirects to an appropriate server worldwide) or a mirror close to you (e.g. in your institution, country,..). A list of Comprehensive R Archive Network (CRAN) mirror URLs can be found here. Below are two examples of how to select a CRAN mirrors. In the first example the cloud mirror is selected, and in the second one an Australian mirror is selected. Before running this code you must uncomment (i.e. remove the '#' symbol) the line with the desired mirror. "
   ]
  },
  {
   "cell_type": "code",
   "execution_count": null,
   "metadata": {},
   "outputs": [],
   "source": []
  },
  {
   "cell_type": "code",
   "execution_count": 1,
   "metadata": {},
   "outputs": [],
   "source": [
    "## Select the repository (i.e. CRAN mirror URL)\n",
    "#my.repos = \"https://cloud.r-project.org/\"\n",
    "#my.repos = \"https://cran.csiro.au/\"  # Example of an Australian mirror"
   ]
  },
  {
   "cell_type": "markdown",
   "metadata": {},
   "source": [
    "Currently ausplotsR must be installed directly from github using the ‘devtools’ package, which must have been previously installed. The code below installs the 'devtools' package. Rather than directly providing the URL for a CRAN mirror, we could have provided the variable 'my.repos' to which we assigned a mirror above. \n",
    "\n",
    "Then the `devtools` library is loaded and the `ausplotsR` library installed from GitHub. The GitHub site for ausplotsR contains the latest developments and information on the package; it can be found at this link. Finally, the `ausplotsR` library is loaded to use in the tutorial. "
   ]
  },
  {
   "cell_type": "code",
   "execution_count": null,
   "metadata": {},
   "outputs": [],
   "source": [
    "## Install directly from github using the 'devtools' package\n",
    "## Thus, 'devtools' must be previouly installed\n",
    "install.packages(\"devtools\", repos=\"https://cloud.r-project.org/\")\n",
    "library(devtools)\n",
    "install_github(\"ternaustralia/ausplotsR\", build_vignettes = TRUE)\n",
    "\n",
    "## Load the package\n",
    "library(ausplotsR)"
   ]
  },
  {
   "cell_type": "markdown",
   "metadata": {},
   "source": [
    "Help on the `ausplotsR` package and a vignette with a guide on how to use the package can be obtained with the code below"
   ]
  },
  {
   "cell_type": "code",
   "execution_count": 3,
   "metadata": {},
   "outputs": [],
   "source": [
    "#help(ausplotsR)\n",
    "#browseVignettes(package=\"ausplotsR\")"
   ]
  },
  {
   "cell_type": "markdown",
   "metadata": {},
   "source": [
    "# Part 2: OBTAIN & EXPLORE AusPlots DATA: `get_ausplots` function\n",
    "\n",
    "The `get_ausplots` function extracts and compiles AusPlots data. \n",
    "\n",
    "Data of specific types, sites, geographical locations, and/or species can be requested via the function arguments.\n",
    "\n",
    "*DATA TYPES:* Up to 8 different types of data can be obtained by setting the corresponding arguments to TRUE/FALSE:\n",
    "\n",
    "  * `site_info`: Site summary data. Includes (among others): plot and visit details, landform data, geographic coordinates, and notes. Included by default. Site summary data are stored in the `site.info` data frame.\n",
    "  * `structural_summaries`: Site vegetation structural summaries. Site vegetation structural summary data are stored in the `struct.summ` data frame.\n",
    "  * `veg.vouchers`: Complete set of species records for the plot determined by a herbarium plus ID numbers for silica-dried tissue samples. Included by default. Vegetation vouchers data are stored in the `veg.vouch` data frame. \n",
    "  * `veg.PI`: Point Intercept (PI) data. Includes data on: substrate, plant species, growth form and height, etc at each of (typically) 1010 points per plot. Included by default. Vegetation point intercept data are stored in the `veg.PI` data frame.\n",
    "  * `basal.wedge`: Basal Wedge Data Raw Hits. These data are required for the calculation of Basal Area by Species by Plot. Basal wedge data are stored in the `veg.basal` data frame.\n",
    "  * `soil_subsites`: Information on what soil and soil metagenomics samples were taken at nine locations across the plot and their identification barcode numbers. Soil and soil metagenomics data are stored in the `soil.subsites` data frame. \n",
    "  * `soil_bulk_density`: Soil bulk density. Soil bulk density data are stored in the `soil.bulk` data frame.\n",
    "  * `soil_character`: Soil characterisation and sample ID data at 10 cm increments to a depth of 1 m. Soil characterisation and sample ID data are stored in the `soil.char` data frame.\n",
    "\n",
    "*SPATIAL FILTERING:* AusPlot data can be spatially subset via the `get_ausplots` function arguments in two ways:\n",
    "\n",
    "  * `my.Plot_IDs`: Character vector with the plots IDs of specific AusPlots plots. \n",
    "  * `bounding_box`: Spatial filter for selecting AusPlots based on a rectangular box, in the format of e.g. c(xmin, xmax, ymin, ymax). AusPlots spatial data are are in longlat, thus x is the longitude and y is the latitude of the box/extent object (e.g., c(120, 140, -30, -10)).  \n",
    "  \n",
    "*SPECIES FILTERING:* AusPlots data can also be subset by particular or sets of genus and/or species (i.e. as determined for the herbarium voucher) using the argument `species_name_search`. This optional argument takes the form of a character string indicating the terms to search and subset. Search terms are not case sensitive and do not require an exact taxonomic match (e.g. \"Eucalyptus moderata\",\"Eucalyptus\", and \"euca\" are all acceptable search terms). \n",
    "Species Filtering behaviour slightly differs among Data Types (i.e. for the different types of created Data Frames):\n",
    "* For `veg.vouch` and  `basal.wedge`, when these arguments are set to `TRUE`, `get_ausplots` returns data.frames with the corresponding data (i.e. voucher records and raw basal wedge data respectively) that match the species_name_search.\n",
    "* For the remaing data types arguments, when these arguments are set to `TRUE`, `get_ausplots` returns data.frames with the corresponding data (e.g. point intercept data,...) for all plots where the species_name_search occurs. \n",
    "\n",
    "The R object resulting from calling `get_ausplots` is a list of data frames containing the requested AusPlots data. The list includes a data frame for each type of data requested (i.e. up to 8 data frames: 'site_info', 'structural_summaries',...) and an auto-generated citation for the data extracted. Please cite ausplotsR and the TERN AusPlots data you use. In each data frame the columns correspond to the variables supplied for each type of data and the number of rows (directly or indirectly) depends on the sites (i.e. via `my.Plot_IDs` or `bounding_box` if subsetted) or species (i.e. via `species_name_search` if subset) retrieved. \n",
    "\n",
    "There are several variables common to all data frames. These include `site_location_name`, `site_location_visit_id`, and `site_unique` (a combination of the previous two). These variables can be used to merge data frames. For example, the contents of two data frames can be combined using the common variable as a link (i.e. guidance to add the merged contents in the correct row). The variable `site_unique` is typically the best option to link data frames in a merge, as it is the most specific variable representing a single visit to a particular site and it should be used in most analyses. Otherwise, errors such including data from the wrong visit to a site can occur. "
   ]
  },
  {
   "cell_type": "code",
   "execution_count": null,
   "metadata": {},
   "outputs": [],
   "source": [
    "# Example 1: All available data (i.e. all data types) for 3 plots\n",
    "# ===============================================================\n",
    "\n",
    "# Obtain the data ('site_info', 'veg.vouchers', and 'veg.PI' are retrieve by default)\n",
    "AP.data = get_ausplots( my.Plot_IDs=c(\"SATFLB0004\", \"QDAMGD0022\", \"NTASTU0002\"),\n",
    "                        structural_summaries=TRUE, basal.wedge=TRUE,\n",
    "                        soil_subsites=TRUE, soil_bulk_density=TRUE, soil_character=TRUE  )\n",
    "\n",
    "# Explore retrieved data\n",
    "class(AP.data)\n",
    "summary(AP.data)\n",
    "str(AP.data)"
   ]
  },
  {
   "cell_type": "code",
   "execution_count": null,
   "metadata": {},
   "outputs": [],
   "source": [
    "# Example 2: Default data for a particular Geographic Extent\n",
    "# ==========================================================\n",
    "\n",
    "# 'site_info', 'veg.vouchers', and 'veg.PI' data retrived for Adelaide (34.92866S  138.59863E) and its sourrounding area\n",
    "AP.data = get_ausplots(bounding_box=c(138.1, 139.1, -34.5, -35.5))\n",
    "\n",
    "# Explore retrieved data\n",
    "class(AP.data)   # As in Example 1 (can run uncommented if curious) \n",
    "summary(AP.data)\n",
    "str(AP.data)   # Similar to Example 1 (can run uncommented if curious) "
   ]
  },
  {
   "cell_type": "code",
   "execution_count": null,
   "metadata": {},
   "outputs": [],
   "source": [
    "# Example 3: 'Default data' + 'basal.wedge' + 'structural_summaries' for the genus Eucalyptus\n",
    "# ===========================================================================================\n",
    "\n",
    "# Default data frames ('site_info', 'veg.vouchers', and 'veg.PI') + 'basal.wedge' + structural_summaries data frames for the genus Eucalyptus\n",
    "AP.data = get_ausplots(basal.wedge=TRUE, structural_summaries=TRUE, species_name_search=\"Eucalyptus\") \n",
    "\n",
    "# Explore retrieved data\n",
    "#class(AP.data)   # As in Example 1 (can run uncommented if curious) \n",
    "summary(AP.data)\n",
    "#str(AP.data)   # Similar to Example 1 (can run uncommented if curious) \n",
    "\n",
    "# Explore species contained in each data frame\n",
    "head(AP.data$veg.vouch) # Includes Records that match 'eucalyptus'\n",
    "head(AP.data$veg.PI)  # Includes Plots where 'eucalyptus' occurs\n",
    "head(AP.data$veg.basal)  # Includes Records that match 'eucalyptus'\n",
    "head(AP.data$struct.summ)  # Includes Plots where 'eucalyptus' occurs\n",
    "\n",
    "# Save an AusPlots derived Data Frame (generated for pre-processing), using 'write.csv'\n",
    "# =====================================================================================\n",
    "\n",
    "# Create Name of the file to be stored (including the date)\n",
    "file.name = paste(\"eucalyptus_vouch\",date.s,sep=\"_\")\n",
    "file.name\n",
    "# Add the \"txt\" extension\n",
    "file.name = paste(file.name,\"csv\",sep=\".\")\n",
    "file.name\n",
    "\n",
    "# Save the Basal Area data to a Text File with columns separated by tabs\n",
    "write.csv(AP.data$veg.vouch, paste(file.path, file.name, sep=\"/\"))"
   ]
  },
  {
   "cell_type": "code",
   "execution_count": null,
   "metadata": {},
   "outputs": [],
   "source": [
    "# Example 4: 'site_info', 'veg.PI', and 'basal.wedge' data for all sites\n",
    "# ======================================================================\n",
    "\n",
    "# Retreive data\n",
    "start.time = Sys.time()\n",
    "AP.data = get_ausplots(veg.vouchers=FALSE, basal.wedge=TRUE) \n",
    "end.time = Sys.time()\n",
    "end.time - start.time\n",
    "\n",
    "# Explore \n",
    "#class(AP.data) # As in Example 1 (can run uncommented if curious) \n",
    "summary(AP.data)\n",
    "#str(AP.data)   # Similar to Example 1 (can run uncommented if curious) \n",
    "\n",
    "# Explore 'site_info' data\n",
    "dim(AP.data$site.info) # get the dimensions of the site.info DF\n",
    "names(AP.data$site.info) # get the names of the site.info variables/parameters\n",
    "head(AP.data$site.info) # Returns the first or last parts of the site.info DF\n",
    "\n",
    "# Explore 'veg_PI' data\n",
    "dim(AP.data$veg.PI) # get the dimensions of the veg.PI DF\n",
    "names(AP.data$veg.PI) # get the names of the veg.PI variables/parameters\n",
    "head(AP.data$veg.PI) # # Returns the first or last parts of the veg.PI DF"
   ]
  },
  {
   "cell_type": "markdown",
   "metadata": {},
   "source": [
    "# Part 3: Manipulating AusPlots data I\n",
    "### Subset data frames\n",
    "\n",
    "The `get_ausplots` function extracts and compiles AusPlots data allowing substantial flexibility in the selection of the required data. Up to 8 different types of data can be retrieved into distinct data frames (i.e. data on sampling sites, vegetation structure, vegetation point intercept, vegetation vouchers, vegetation basal wedge, soil characterization, soil bulk density, and soil & soil metagenomics samples). In addition, data can be filtered for particular sets of plots and/or genus/species, as well as geographically using a rectangular bounding box. \n",
    "\n",
    "However, in some situations we are only interested in a subset of the data retrieved by `get_ausplots`. To subset ausplot data, we use the variables in the retrieved data frames corresponding to the concept by which we would like to filter the data. The data retrieved by the function 'get_ausplots' can be manipulated as any other R data. However, the 'deep' structure of the data (a list of multiple data frames) and interrelation of the data frames (via a common a common link variable) can make manipulating the data a bit more daunting. Below we explain and provide examples of the archetypical scenarios encountered when sub-setting AusPlots data retrieved with `ausplotsR`. An addtional (longer) example is presented in another TERN DSDP Tutorial [\"Understanding and using the ‘ausplotsR’ package and AusPlots data\" Tutorial](https://github.com/ternaustralia/TERN-Data-Skills/tree/master/EcosystemSurveillance_PlotData/AusPlots_Tutorial).\n",
    "\n",
    "In some occasions sub-setting a single data frame (i.e. type of variables) is all what we need. Variables in the `site.info` data frame contain information that affect all other data frames; so typically after sub-setting the contents of the variable of interests in the `site.info` data frame, we will also subset the remaining datasets using one of the common variables among all data frames. Common variables among datasets include `site_location_name`, `site_location_visit_id`, and `site_unique`.  Commonly `site_unique` is the best option to ‘connect’ ausplots data frames, as it is the most specific variable representing a single visit to a particular site.\n",
    "\n",
    "To subset a data frame we filter its data by querying the variable(s) of interest using operators. The variables of interest are typically factors, numerical, or boolean variables. Many variables retrieved by `get_ausplots` have a `char` class, despite conceptually falling in one of these 3 categories. Therefore, before using a variable to filter a data frame we must inspect its contents and class, and if required change its class to an adequate one. We use relational operators to filter individual variables, and logical (and occasionally arithmetic) operators to combine more than one variable in our filtering operations ([R Operators]( https://www.datamentor.io/r-programming/operator/)).\n",
    " \n",
    "\n",
    "#### Part 3A: Sub-setting a Single Data Frame\n",
    "\n",
    "We might be, for example, interested in point intercept data only for vegetation of a particular height, a particular growth form, growing on particular substrate type, or found in a particular set of transects. In these examples, we use the variables in the ‘veg.PI’ data frame to filter the retrieved ausplots data in this data frame. We do not need to subset any othe data frames."
   ]
  },
  {
   "cell_type": "markdown",
   "metadata": {},
   "source": [
    "##### Example 1: plant height \n",
    "\n",
    "Height is `numeric`, so there is no need to change its class"
   ]
  },
  {
   "cell_type": "code",
   "execution_count": 77,
   "metadata": {},
   "outputs": [
    {
     "data": {
      "text/html": [
       "'numeric'"
      ],
      "text/latex": [
       "'numeric'"
      ],
      "text/markdown": [
       "'numeric'"
      ],
      "text/plain": [
       "[1] \"numeric\""
      ]
     },
     "metadata": {},
     "output_type": "display_data"
    },
    {
     "data": {
      "text/plain": [
       "   Min. 1st Qu.  Median    Mean 3rd Qu.    Max.    NA's \n",
       "    0.0     0.1     0.4     2.2     2.6    34.0  392715 "
      ]
     },
     "metadata": {},
     "output_type": "display_data"
    },
    {
     "data": {
      "text/html": [
       "<ol class=list-inline>\n",
       "\t<li>773278</li>\n",
       "\t<li>13</li>\n",
       "</ol>\n"
      ],
      "text/latex": [
       "\\begin{enumerate*}\n",
       "\\item 773278\n",
       "\\item 13\n",
       "\\end{enumerate*}\n"
      ],
      "text/markdown": [
       "1. 773278\n",
       "2. 13\n",
       "\n",
       "\n"
      ],
      "text/plain": [
       "[1] 773278     13"
      ]
     },
     "metadata": {},
     "output_type": "display_data"
    },
    {
     "data": {
      "text/html": [
       "<ol class=list-inline>\n",
       "\t<li>499932</li>\n",
       "\t<li>13</li>\n",
       "</ol>\n"
      ],
      "text/latex": [
       "\\begin{enumerate*}\n",
       "\\item 499932\n",
       "\\item 13\n",
       "\\end{enumerate*}\n"
      ],
      "text/markdown": [
       "1. 499932\n",
       "2. 13\n",
       "\n",
       "\n"
      ],
      "text/plain": [
       "[1] 499932     13"
      ]
     },
     "metadata": {},
     "output_type": "display_data"
    },
    {
     "data": {
      "text/plain": [
       "   Min. 1st Qu.  Median    Mean 3rd Qu.    Max.    NA's \n",
       "    2.0     3.7     6.0     6.8     9.0    34.0  392715 "
      ]
     },
     "metadata": {},
     "output_type": "display_data"
    }
   ],
   "source": [
    "# ============================\n",
    "# Sub-set a Single Data Frame\n",
    "# ============================\n",
    "# Here we filter by variables in the 'veg.PI' data frame\n",
    "\n",
    "AP.data = get_ausplots( structural_summaries=TRUE, basal.wedge=TRUE,\n",
    "                        soil_subsites=TRUE, soil_bulk_density=TRUE, soil_character=TRUE  )\n",
    "\n",
    "\n",
    "# Height\n",
    "# ======\n",
    "\n",
    "# Explore Variable Type and Change to Numeric\n",
    "# -------------------------------------------\n",
    "class(AP.data$veg.PI$height)\n",
    "summary(AP.data$veg.PI$height)\n",
    "\n",
    "# Subset to Height (> 2 meters) in 'veg.PI' data frame\n",
    "# ----------------------------------------------------\n",
    "TreeGT2m.AP.data = AP.data\n",
    "dim(TreeGT2m.AP.data$veg.PI)\n",
    "#summary(AP.data$veg.PI$height)\n",
    "\n",
    "# the following line is making a dataframe that is restricted to entries that are greater than 2 metres in height\n",
    "TreeGT2m.AP.data$veg.PI = TreeGT2m.AP.data$veg.PI[TreeGT2m.AP.data$veg.PI$height > 2,] \n",
    "\n",
    "# these commands should now give different results from above to reflect the filtered dataframe\n",
    "dim(TreeGT2m.AP.data$veg.PI) \n",
    "summary(TreeGT2m.AP.data$veg.PI$height)"
   ]
  },
  {
   "cell_type": "markdown",
   "metadata": {},
   "source": [
    "##### Example 2: transect \n",
    "\n",
    "Transect is a `factor`, so there is no need to change its class\n"
   ]
  },
  {
   "cell_type": "code",
   "execution_count": null,
   "metadata": {
    "scrolled": true
   },
   "outputs": [],
   "source": [
    "# Transect\n",
    "# ========\n",
    "\n",
    "# Explore Variable Type and Change to Factor\n",
    "# ------------------------------------------\n",
    "class(AP.data$veg.PI$transect)\n",
    "summary(AP.data$veg.PI$transect)\n",
    "\n",
    "\n",
    "# Subset an specific Transect (E1-W1) in 'veg.PI' data frame\n",
    "# ----------------------------------------------------------\n",
    "E1W1Tr.AP.data = AP.data\n",
    "dim(E1W1Tr.AP.data$veg.PI)\n",
    "#summary(AP.data$veg.PI$transect)\n",
    "\n",
    "# the following line is making a dataframe that is restricted to entries that are greater than 2 metres in height\n",
    "E1W1Tr.AP.data$veg.PI = E1W1Tr.AP.data$veg.PI[E1W1Tr.AP.data$veg.PI$transect == \"E1-W1\",] \n",
    "\n",
    "levels(E1W1Tr.AP.data$veg.PI$transect)\n",
    "E1W1Tr.AP.data$veg.PI$transect = droplevels(E1W1Tr.AP.data$veg.PI$transect)\n",
    "levels(E1W1Tr.AP.data$veg.PI$transect)\n",
    "\n",
    "# these commands should now give different results from above to reflect the filtered dataframe\n",
    "dim(E1W1Tr.AP.data$veg.PI)\n",
    "summary(E1W1Tr.AP.data$veg.PI$transect)"
   ]
  },
  {
   "cell_type": "markdown",
   "metadata": {},
   "source": [
    "##### Example 3: plant growth form\n",
    "\n",
    "Transect is a `character` variable, so we need to change its class to `factor` \n"
   ]
  },
  {
   "cell_type": "code",
   "execution_count": null,
   "metadata": {},
   "outputs": [],
   "source": [
    "# Growth Form\n",
    "# ===========\n",
    "\n",
    "# Explore Variable Type and Change to Factor in 'veg.PI' data frame\n",
    "# -----------------------------------------------------------------\n",
    "class(AP.data$veg.PI$growth_form)\n",
    "# summary(AP.data$veg.PI$growth_form)\n",
    "AP.data$veg.PI$growth_form.f = factor(AP.data$veg.PI$growth_form)\n",
    "# summary(AP.data$veg.PI$growth_form.f)\n",
    "\n",
    "# Subset to the Tree/Palm Growth Form\n",
    "# -----------------------------------\n",
    "TreePalm.AP.data = AP.data\n",
    "dim(TreePalm.AP.data$veg.PI)\n",
    "#summary(AP.data$veg.PI$growth_form.f)\n",
    "\n",
    "# the following line is making a dataframe that is restricted to entries that are the growth form Tree/Palm\n",
    "TreePalm.AP.data$veg.PI = TreePalm.AP.data$veg.PI[TreePalm.AP.data$veg.PI$growth_form.f == \"Tree/Palm\",] \n",
    "\n",
    "levels(TreePalm.AP.data$veg.PI$growth_form.f)\n",
    "TreePalm.AP.data$veg.PI$growth_form.f = droplevels(TreePalm.AP.data$veg.PI$growth_form.f)\n",
    "levels(TreePalm.AP.data$veg.PI$growth_form.f)\n",
    "\n",
    "dim(TreePalm.AP.data$veg.PI)\n",
    "summary(TreePalm.AP.data$veg.PI$growth_form.f)"
   ]
  },
  {
   "cell_type": "code",
   "execution_count": null,
   "metadata": {},
   "outputs": [],
   "source": []
  },
  {
   "cell_type": "markdown",
   "metadata": {},
   "source": [
    "#### Park 3B: Sub-setting All Data Frames\n",
    "\n",
    "In some occasions, we are interested in sites located at particular states or bioregions. Alternatively, we might be only interested on data obtained in sites on steep slopes and/or with a slope facing (i.e. aspect) south. In these examples, we can use the variables in the `site.info` data frame to filter the sites of interest. In this case, we also need to subset the data in the remaining data frames, as we are only interested in data that has been collected in sites with particular characteristics. Therefore, we filter the other data frames by site, selecting the sites filtered out in our first sub-setting operation on the `site.info` data frame. To do so we use one of the variables present in all data frames that contain a site identifier (i.e. using `site_location_name`, `site_location_visit_id`, or `site_unique`; see above).\n",
    "\n",
    "##### Example 1: Site Slope\n",
    "\n",
    "Site Slope is a `character` variable, so we need to change its class to `numeric` "
   ]
  },
  {
   "cell_type": "code",
   "execution_count": null,
   "metadata": {},
   "outputs": [],
   "source": [
    "# =======================\n",
    "# Sub-set All Data Frames\n",
    "# =======================\n",
    "# Here we filter by variables in the 'veg.PI' data frame\n",
    "\n",
    "\n",
    "# Site Slope\n",
    "# ==========\n",
    "\n",
    "# Explore Variable Type and Change to Numeric\n",
    "# -------------------------------------------\n",
    "class(AP.data$site.info$site_slope)\n",
    "# summary(AP.data$site.info$site_slope)\n",
    "AP.data$site.info$site_slope.n = as.numeric(AP.data$site.info$site_slope)\n",
    "summary(AP.data$site.info$site_slope.n)\n",
    "\n",
    "\n",
    "# Subset to Plos with Steep Slopes (> 20 degrees) in 'site.info' data frame\n",
    "# -------------------------------------------------------------------------\n",
    "slope.AP.data = AP.data\n",
    "dim(slope.AP.data$site.info)\n",
    "#summary(AP.data$site.info$site_slope.n)\n",
    "slope.AP.data$site.info = slope.AP.data$site.info[slope.AP.data$site.info$site_slope.n >= 20,] \n",
    "dim(slope.AP.data$site.info)\n",
    "summary(slope.AP.data$site.info$site_slope.n)\n",
    "\n",
    "\n",
    "# Subset to Plots with Steep Slopes in other Data Frames\n",
    "# ------------------------------------------------------\n",
    "# To do so we use the common variable 'site_unique'\n",
    "\n",
    "# Subset in 'veg.PI' Data Frame\n",
    "# ~~~~~~~~~~~~~~~~~~~~~~~~~~~~~\n",
    "dim(slope.AP.data$veg.PI)\n",
    "slope.AP.data$veg.PI = slope.AP.data$veg.PI[slope.AP.data$veg.PI$site_unique %in% slope.AP.data$site.info$site_unique, ]\n",
    "dim(slope.AP.data$veg.PI)\n",
    "\n",
    "# Subset in 'veg.basal' Data Frame\n",
    "# ~~~~~~~~~~~~~~~~~~~~~~~~~~~~~~~~\n",
    "dim(slope.AP.data$veg.basal)\n",
    "slope.AP.data$veg.basal = slope.AP.data$veg.basal[slope.AP.data$veg.basal$site_unique %in% slope.AP.data$site.info$site_unique, ]\n",
    "dim(slope.AP.data$veg.basal)"
   ]
  },
  {
   "cell_type": "markdown",
   "metadata": {},
   "source": [
    "##### Example 2: Site Aspect\n",
    "\n",
    "Site Aspect is a `character` variable, so we need to change its class to `numeric` "
   ]
  },
  {
   "cell_type": "code",
   "execution_count": null,
   "metadata": {},
   "outputs": [],
   "source": [
    "# Site Aspect\n",
    "# ===========\n",
    "\n",
    "# Explore Variable Type and Change to Numeric\n",
    "# -------------------------------------------\n",
    "class(AP.data$site.info$site_aspect)\n",
    "summary(AP.data$site.info$site_aspect)\n",
    "AP.data$site.info$site_aspect.n = as.numeric(AP.data$site.info$site_aspect)\n",
    "summary(AP.data$site.info$site_aspect.n)\n",
    "\n",
    "# Subset to Plots with a South (SE to SW; i.e. 135 to 225) Aspect in 'site.info' data frame\n",
    "# -----------------------------------------------------------------------------------------\n",
    "aspect.AP.data = AP.data\n",
    "dim(aspect.AP.data$site.info)\n",
    "#summary(AP.data$site.info$site_aspect.n)\n",
    "aspect.AP.data$site.info = aspect.AP.data$site.info[(aspect.AP.data$site.info$site_aspect.n > 135 &\n",
    "aspect.AP.data$site.info$site_aspect.n <= 225),] \n",
    "dim(aspect.AP.data$site.info)\n",
    "summary(aspect.AP.data$site.info$site_aspect.n)\n",
    "\n",
    "# Subset to Plots with a South (SE to SW) Aspect in other Data Frames\n",
    "# -------------------------------------------------------------------\n",
    "# To do so we use the common variable 'site_unique'\n",
    "\n",
    "# Subset in 'veg.PI' Data Frame\n",
    "# ~~~~~~~~~~~~~~~~~~~~~~~~~~~~~\n",
    "dim(aspect.AP.data$veg.PI)\n",
    "aspect.AP.data$veg.PI = aspect.AP.data$veg.PI[aspect.AP.data$veg.PI$site_unique %in% aspect.AP.data$site.info$site_unique, ]\n",
    "dim(aspect.AP.data$veg.PI)\n",
    "\n",
    "# Subset in 'veg.basal' Data Frame\n",
    "# ~~~~~~~~~~~~~~~~~~~~~~~~~~~~~~~~\n",
    "dim(aspect.AP.data$veg.basal)\n",
    "aspect.AP.data$veg.basal = aspect.AP.data$veg.basal[aspect.AP.data$veg.basal$site_unique %in% aspect.AP.data$site.info$site_unique, ]\n",
    "dim(aspect.AP.data$veg.basal)"
   ]
  },
  {
   "cell_type": "markdown",
   "metadata": {},
   "source": [
    "##### Example 3: State\n",
    "\n",
    "State is a `character` variable, so we need to change its class to `factor` "
   ]
  },
  {
   "cell_type": "code",
   "execution_count": null,
   "metadata": {},
   "outputs": [],
   "source": [
    "# State\n",
    "# =====\n",
    "\n",
    "# Explore Variable Type and Change to Factor\n",
    "# ------------------------------------------\n",
    "class(AP.data$site.info$state)\n",
    "summary(AP.data$site.info$state)\n",
    "AP.data$site.info$state.f = factor(AP.data$site.info$state); # change variable to factor\n",
    "summary(AP.data$site.info$state.f);\n",
    "\n",
    "\n",
    "# Subset to Plots in the State of South Australia in 'site.info' data frame\n",
    "# --------------------------------------------------------------------\n",
    "# Subset to \"SA\"\n",
    "SA.AP.data = AP.data\n",
    "dim(SA.AP.data$site.info);\n"
   ]
  },
  {
   "cell_type": "code",
   "execution_count": null,
   "metadata": {},
   "outputs": [],
   "source": [
    "#summary(AP.data$site.info$state.f)\n",
    "SA.AP.data$site.info = SA.AP.data$site.info[SA.AP.data$site.info$state.f == \"SA\",] \n",
    "levels(SA.AP.data$site.info$state.f)\n",
    "SA.AP.data$site.info$state.f = droplevels(SA.AP.data$site.info$state.f)\n",
    "levels(SA.AP.data$site.info$state.f)\n",
    "dim(SA.AP.data$site.info)\n",
    "summary(SA.AP.data$site.info$state.f)\n",
    "\n",
    "\n",
    "# Subset to Plots iw the State of South Australia in other Data Frames\n",
    "# ---------------------------------------------------------------\n",
    "# To do so we use the common variable 'site_unique'\n",
    "\n",
    "# Subset in 'veg.PI' Data Frame\n",
    "# ~~~~~~~~~~~~~~~~~~~~~~~~~~~~~\n",
    "dim(SA.AP.data$veg.PI)\n",
    "SA.AP.data$veg.PI = SA.AP.data$veg.PI[SA.AP.data$veg.PI$site_unique %in% SA.AP.data$site.info$site_unique, ]\n",
    "dim(SA.AP.data$veg.PI)\n",
    "\n",
    "# Subset in 'veg.basal' Data Frame\n",
    "# ~~~~~~~~~~~~~~~~~~~~~~~~~~~~~~~~\n",
    "dim(SA.AP.data$veg.basal)\n",
    "SA.AP.data$veg.basal = SA.AP.data$veg.basal[SA.AP.data$veg.basal$site_unique %in% SA.AP.data$site.info$site_unique, ]\n",
    "dim(SA.AP.data$veg.basal)"
   ]
  },
  {
   "cell_type": "markdown",
   "metadata": {},
   "source": [
    "##### Example 4: Bioregion name\n",
    "\n",
    "Bioregion name is a `character` variable, so we need to change its class to `factor` "
   ]
  },
  {
   "cell_type": "code",
   "execution_count": null,
   "metadata": {},
   "outputs": [],
   "source": [
    "# Bioregion name\n",
    "# ==============\n",
    "\n",
    "# Explore Variable Type and Change to Factor\n",
    "# ------------------------------------------\n",
    "class(AP.data$site.info$bioregion_name)\n",
    "summary(AP.data$site.info$bioregion_name)\n",
    "AP.data$site.info$bioregion_name.f = factor(AP.data$site.info$bioregion_name)\n",
    "summary(AP.data$site.info$bioregion_name.f)\n",
    "\n",
    "\n",
    "# Subset to Plots in Bioregions in the south central South Australia in 'site.info' data frame\n",
    "# --------------------------------------------------------------------------------------------------\n",
    "# Subset to \"FLB\" (Flinders Lofty Block), \"EYB\" (Eyre Yorke Block), \"KAN\" (Kanmantoo) and \"MDD\" (Murray Darling Depression)\n",
    "EGCBioregs.AP.data = AP.data\n",
    "dim(EGCBioregs.AP.data$site.info)\n",
    "#summary(AP.data$site.info$bioregion_name.f)\n",
    "\n",
    "\n",
    "SA.Bioreg = c('FLB', 'EYB', 'KAN', 'MDD')\n",
    "EGCBioregs.AP.data$site.info = EGCBioregs.AP.data$site.info[EGCBioregs.AP.data$site.info$bioregion_name.f %in% SA.Bioreg,] \n",
    "levels(EGCBioregs.AP.data$site.info$bioregion_name.f)\n",
    "EGCBioregs.AP.data$site.info$bioregion_name.f = droplevels(EGCBioregs.AP.data$site.info$bioregion_name.f)\n",
    "levels(EGCBioregs.AP.data$site.info$bioregion_name.f)\n",
    "dim(EGCBioregs.AP.data$site.info)\n",
    "summary(EGCBioregs.AP.data$site.info$bioregion_name.f)\n",
    "\n",
    "\n",
    "# Subset to Plots in Bioregions in south central South Australia in other Data Frames\n",
    "# ---------------------------------------------------------------------------------------------\n",
    "# To do so we use the common variable 'site_unique'\n",
    "\n",
    "# Subset in 'veg.PI' Data Frame\n",
    "# ~~~~~~~~~~~~~~~~~~~~~~~~~~~~~\n",
    "dim(EGCBioregs.AP.data$veg.PI)\n",
    "EGCBioregs.AP.data$veg.PI = EGCBioregs.AP.data$veg.PI[EGCBioregs.AP.data$veg.PI$site_unique %in% EGCBioregs.AP.data$site.info$site_unique, ]\n",
    "dim(EGCBioregs.AP.data$veg.PI)\n",
    "\n",
    "# Subset in 'veg.basal' Data Frame\n",
    "# ~~~~~~~~~~~~~~~~~~~~~~~~~~~~~~~~\n",
    "dim(EGCBioregs.AP.data$veg.basal)\n",
    "EGCBioregs.AP.data$veg.basal = EGCBioregs.AP.data$veg.basal[EGCBioregs.AP.data$veg.basal$site_unique %in% EGCBioregs.AP.data$site.info$site_unique, ]\n",
    "dim(EGCBioregs.AP.data$veg.basal)"
   ]
  },
  {
   "cell_type": "code",
   "execution_count": null,
   "metadata": {},
   "outputs": [],
   "source": [
    "# Save an AusPlots derived Data Frame (generated for pre-processing), using 'write.csv'\n",
    "# =====================================================================================\n",
    "\n",
    "# Create Name of the file to be stored (including the date)\n",
    "file.name = paste(\"basal_test1\",date.s,sep=\"_\")\n",
    "file.name\n",
    "# Add the \"txt\" extension\n",
    "file.name = paste(file.name,\"csv\",sep=\".\")\n",
    "file.name\n",
    "\n",
    "# Save the Basal Area data to a Text File with columns separated by tabs\n",
    "write.csv(EGCBioregs.AP.data$site.info, paste(file.path, file.name, sep=\"/\"))\n"
   ]
  },
  {
   "cell_type": "markdown",
   "metadata": {},
   "source": [
    "#### Part 3C: SPECIES-LEVEL DATA\n",
    "##### `species_table` function and species occurrence matrices\n",
    "\n",
    "The `species_table` function in the `ausplotsR` package is used to generate a species occurrence matrix from AusPlots raw data. The species occurence matrix can be then used in multiple applications that require species-level data. For example, it can be used to investigate patterns of presence/absence and/or abundance (note that vegetation 'cover' is used as a surrogate for vegetation 'abundance'), compute indices of species diversity, or elaborate rank-abundance plots. \n",
    "\n",
    "The `species_table` function takes a data frame of individual raw point intercept hits (i.e. a veg.PI data frame) generated using the `get_ausplots` function, and returns a ‘species against sites’ matrix. Four metrics can be selected to score species occurrence:\n",
    "\n",
    "* _Presence/Absence:_ Set by the argument `m_kind = PA`.\n",
    "* _Percent Cover:_ Based on total frequency of hits. This is the most commonly used metric. Set by the argument `m_kind = percent_cover`.\n",
    "* _Frequency:_ Based on proportional frequencies of presence on the 10 individual transects within a plot. Set by the argument `m_kind = freq`. It can be a measure of importance for low cover species.\n",
    "* _IVI:_ A combination of cover and frequency. Set by the argument `m_kind = IVI`.\n",
    "\n",
    "If _Percent Cover_ or _IVI_ are used two types of cover type can be selected:\n",
    "\n",
    "* _Projected Foliage Cover (PFC):_ Hits scored as ‘in canopy sky’ are removed. Set by the argument `cover_type = PFC`.\n",
    "* _Opaque Canopy Cover (OCC):_ Hits scored as ‘in canopy sky’ are retained. Set by the argument `cover_type = OCC`.\n",
    "\n",
    "\n",
    "Examples of the different arguments combinations in the `species_table` function are presented below. Species occurrence matrices are computed for the full set of vegetation point intersect data currently available at AusPlots. The list of data frames containing information for all currently available AusPlots sites (i.e. the 'AP.data' list) was previously created using the `get_ausplots` function (see above). The class and dimensions of the returned data frame are the same in all examples, so they are only displayed for the first example (the corresponding code is commented out in the other examples). The resulting species occurrence data frames can be enriched with additional information as we will see in the next section ('Manipulating AusPlots data II: Merging data frames'). "
   ]
  },
  {
   "cell_type": "code",
   "execution_count": null,
   "metadata": {},
   "outputs": [],
   "source": [
    "# ===========================================================================\n",
    "# SPECIES-LEVEL DATA: 'species_table' function and species occurence matrices\n",
    "# ===========================================================================\n",
    "\n",
    "# Scoring metric: Presence/Absence\n",
    "# ================================\n",
    "AP.data.SppbySites.PA = species_table(AP.data$veg.PI, m_kind=\"PA\")\n",
    "class(AP.data.SppbySites.PA)\n",
    "dim(AP.data.SppbySites.PA) # Number of rows and columns in the matrix: Sites x Species\n",
    "AP.data.SppbySites.PA[1:5, 1:5]\n",
    "summary(AP.data.SppbySites.PA[,1:3])"
   ]
  },
  {
   "cell_type": "code",
   "execution_count": null,
   "metadata": {},
   "outputs": [],
   "source": [
    "# Scoring metric: Percent Cover\n",
    "# =============================\n",
    "\n",
    "# Cover Type: Projected foliage cover (PFC)\n",
    "# -----------------------------------------\n",
    "# Hits scoered as 'in canopy sky' are removed\n",
    "AP.data.SppbySites.PcC.PFC = species_table(AP.data$veg.PI, m_kind=\"percent_cover\", cover_type=\"PFC\")\n",
    "#class(AP.data.SppbySites.PcC.PFC)\n",
    "#dim(AP.data.SppbySites.PcC.PFC) # Number of rows and columns in the matrix: Sites x Species\n",
    "#AP.data.SppbySites.PcC.PFC[1:5, 1:5]\n",
    "summary(AP.data.SppbySites.PcC.PFC[,1:3])\n",
    "\n",
    "# Cover Type: Opaque Canopy Cover (OCC)\n",
    "# -------------------------------------\n",
    "# Hits scoered as 'in canopy sky' are retained\n",
    "AP.data.SppbySites.PcC.OCC = species_table(AP.data$veg.PI, m_kind=\"percent_cover\", cover_type=\"OCC\")\n",
    "#class(AP.data.SppbySites.PcC.OCC)\n",
    "#dim(AP.data.SppbySites.PcC.OCC) # Number of rows and columns in the matrix: Sites x Species\n",
    "#AP.data.SppbySites.PcC.OCC[1:5, 1:5]\n",
    "summary(AP.data.SppbySites.PcC.OCC[,1:3])\n",
    "\n",
    "\n",
    "# Scoring metric: Frequency\n",
    "# =========================\n",
    "AP.data.SppbySites.Freq = species_table(AP.data$veg.PI, m_kind=\"freq\")\n",
    "#class(AP.data.SppbySites.Freq)\n",
    "#dim(AP.data.SppbySites.Freq) # Number of rows and columns in the matrix: Sites x Species\n",
    "#AP.data.SppbySites.Freq[1:5, 1:5]\n",
    "summary(AP.data.SppbySites.Freq[,1:3])\n",
    "\n",
    "\n",
    "# Scoring metric: IVI\n",
    "# ===================\n",
    "\n",
    "# Cover Type: Projected foliage cover (PFC)\n",
    "# -----------------------------------------\n",
    "# Hits scoered as 'in canopy sky' are removed\n",
    "AP.data.SppbySites.IVI.PFC = species_table(AP.data$veg.PI, m_kind=\"IVI\", cover_type=\"PFC\")\n",
    "#class(AP.data.SppbySites.IVI.PFC)\n",
    "#dim(AP.data.SppbySites.IVI.PFC) # Number of rows and columns in the matrix: Sites x Species\n",
    "#AP.data.SppbySites.IVI.PFC[1:5, 1:5]\n",
    "summary(AP.data.SppbySites.IVI.PFC[,1:3])\n",
    "\n",
    "# Cover Type: Opaque Canopy Cover (OCC)\n",
    "# -------------------------------------\n",
    "# Hits scoered as 'in canopy sky' are retained\n",
    "AP.data.SppbySites.IVI.OCC = species_table(AP.data$veg.PI, m_kind=\"IVI\", cover_type=\"OCC\")\n",
    "#class(AP.data.SppbySites.IVI.OCC)\n",
    "#dim(AP.data.SppbySites.IVI.OCC) # Number of rows and columns in the matrix: Sites x Species\n",
    "#AP.data.SppbySites.IVI.OCC[1:5, 1:5]\n",
    "summary(AP.data.SppbySites.IVI.OCC[,1:3])"
   ]
  },
  {
   "cell_type": "markdown",
   "metadata": {},
   "source": [
    "# Part 4 Manipulating AusPlots data II: Merging data frames\n",
    "\n",
    "The `ausplotsR` package functions help as pre-processing the AusPlots data extracted with the `get_ausplots` function into data frames useful for data analysis. For example, the `species_table` function generates a 'species occurrence by site' matrix (contained in a data frame) from AusPlots raw data (i.e. from point intercept hits in the `veg.PI` data frame created by the `get_ausplots` function).  \n",
    "\n",
    "However, often we want to enrich the data in these derived data frames with additional information. Typically we need to add some information about the sites were the plot data was collected from `site.info` data frame (automatically created by the `get_ausplots` function. For example, we would like add to the 'species occurrence by site' data frame information about the [IBRA7 bioregion](https://www.environment.gov.au/land/nrs/science/ibra), longitude and latitude of the plot sites. To do so we need to merge the `species_table` and `site.info` data frames, using all the variables in the former data frame and the three required variables in the latter data frame in the merge. \n",
    "\n",
    "The `merge` function in the `base` package (i.e. it is provided with initial R installation) merges two data frames by common columns or row names (or other versions of database join operations). We need to provide (at least) the following arguments to the `merge` function:\n",
    "\n",
    "* _Data frames (or objects)_ to be coerced into one (arguments `x` and `y`).\n",
    "* _Columns used for merging:_ By default the data frames are merged on the columns with names that they both have (argument `by`), but separate specifications of the columns can be given by the arguments `by.x` and `by.y`. \n",
    "* _Columns to merge:_ We can provide the names of the columns we want to include in the merge between `[]`, in a similar fashion to when we access columns in a data frame. To include all the columns in a data frame the `names` function in the `base` package can be used. The arguments `all`, `all.x`, `all.y` can also be used for, in SQL terminology, a 'full outer joint', a 'left outer join', and a 'right outer join' respectively (i.e. returning unmatched rows form both tables, the left table, and the right table respectively). \n",
    "\n",
    "An example merging all the data in a `species_table` data frame and the variables `bioregion_name`, `longitude`, and `latitude` in the `site.info` data frame is presented below. Before proceeding with the merging, we create a `site_unique` variable in the `species_table` data frame to have a common column for merging. The `site_unique` variable contains a unique id for each site. The required data to create the this variables is present as 'rownames' in the `species_table` data frame.  \n",
    "\n",
    "We end the example by creating a new column (`Tot_PcC`) containing the Total Percentance Cover from the original values in the `species_table` data frame and plotting a buble plot representing the Total Percentage Cover in space. To create this plot we use three of the variables we added to the original `species_table` data frame, `Tot_PcC`, `longitude`, and `latitude` (the latter two were added in the data frames merge). We use funtions in the `ggplot2` data visualisation package to generate this plot. More sofisticated graphs of AusPlots data, including graphs of site metrics over a map of Australia, are constructed and displayed in the TERN's DSDP ['ECOSYSTEM SURVEILLANCE (AusPlots) TUTORIAL: UNDERSTANDING AND USING THE ‘ausplotsR’ PACKAGE AND AusPlots DATA'](https://github.com/ternaustralia/TERN-Data-Skills/tree/master/EcosystemSurveillance_PlotData/AusPlots_Tutorial) tutorial."
   ]
  },
  {
   "cell_type": "code",
   "execution_count": 28,
   "metadata": {},
   "outputs": [
    {
     "data": {
      "text/html": [
       "<ol class=list-inline>\n",
       "\t<li>683</li>\n",
       "\t<li>3780</li>\n",
       "</ol>\n"
      ],
      "text/latex": [
       "\\begin{enumerate*}\n",
       "\\item 683\n",
       "\\item 3780\n",
       "\\end{enumerate*}\n"
      ],
      "text/markdown": [
       "1. 683\n",
       "2. 3780\n",
       "\n",
       "\n"
      ],
      "text/plain": [
       "[1]  683 3780"
      ]
     },
     "metadata": {},
     "output_type": "display_data"
    },
    {
     "data": {
      "text/html": [
       "<ol class=list-inline>\n",
       "\t<li>683</li>\n",
       "\t<li>3783</li>\n",
       "</ol>\n"
      ],
      "text/latex": [
       "\\begin{enumerate*}\n",
       "\\item 683\n",
       "\\item 3783\n",
       "\\end{enumerate*}\n"
      ],
      "text/markdown": [
       "1. 683\n",
       "2. 3783\n",
       "\n",
       "\n"
      ],
      "text/plain": [
       "[1]  683 3783"
      ]
     },
     "metadata": {},
     "output_type": "display_data"
    },
    {
     "data": {
      "text/html": [
       "<ol class=list-inline>\n",
       "\t<li>'Zygophyllum.simile'</li>\n",
       "\t<li>'Zygophyllum.sp.'</li>\n",
       "\t<li>'site_unique'</li>\n",
       "\t<li>'bioregion_name'</li>\n",
       "\t<li>'longitude'</li>\n",
       "\t<li>'latitude'</li>\n",
       "</ol>\n"
      ],
      "text/latex": [
       "\\begin{enumerate*}\n",
       "\\item 'Zygophyllum.simile'\n",
       "\\item 'Zygophyllum.sp.'\n",
       "\\item 'site\\_unique'\n",
       "\\item 'bioregion\\_name'\n",
       "\\item 'longitude'\n",
       "\\item 'latitude'\n",
       "\\end{enumerate*}\n"
      ],
      "text/markdown": [
       "1. 'Zygophyllum.simile'\n",
       "2. 'Zygophyllum.sp.'\n",
       "3. 'site_unique'\n",
       "4. 'bioregion_name'\n",
       "5. 'longitude'\n",
       "6. 'latitude'\n",
       "\n",
       "\n"
      ],
      "text/plain": [
       "[1] \"Zygophyllum.simile\" \"Zygophyllum.sp.\"    \"site_unique\"       \n",
       "[4] \"bioregion_name\"     \"longitude\"          \"latitude\"          "
      ]
     },
     "metadata": {},
     "output_type": "display_data"
    },
    {
     "data": {
      "text/html": [
       "<ol class=list-inline>\n",
       "\t<li>'Zygophyllum.sp.'</li>\n",
       "\t<li>'site_unique'</li>\n",
       "\t<li>'bioregion_name'</li>\n",
       "\t<li>'longitude'</li>\n",
       "\t<li>'latitude'</li>\n",
       "\t<li>'Tot_PcC'</li>\n",
       "</ol>\n"
      ],
      "text/latex": [
       "\\begin{enumerate*}\n",
       "\\item 'Zygophyllum.sp.'\n",
       "\\item 'site\\_unique'\n",
       "\\item 'bioregion\\_name'\n",
       "\\item 'longitude'\n",
       "\\item 'latitude'\n",
       "\\item 'Tot\\_PcC'\n",
       "\\end{enumerate*}\n"
      ],
      "text/markdown": [
       "1. 'Zygophyllum.sp.'\n",
       "2. 'site_unique'\n",
       "3. 'bioregion_name'\n",
       "4. 'longitude'\n",
       "5. 'latitude'\n",
       "6. 'Tot_PcC'\n",
       "\n",
       "\n"
      ],
      "text/plain": [
       "[1] \"Zygophyllum.sp.\" \"site_unique\"     \"bioregion_name\"  \"longitude\"      \n",
       "[5] \"latitude\"        \"Tot_PcC\"        "
      ]
     },
     "metadata": {},
     "output_type": "display_data"
    },
    {
     "data": {},
     "metadata": {},
     "output_type": "display_data"
    },
    {
     "data": {
      "image/png": "[encoded data removed]",
      "text/plain": [
       "plot without title"
      ]
     },
     "metadata": {},
     "output_type": "display_data",
     "source": "R display func"
    }
   ],
   "source": [
    "# ==================\n",
    "# Meging data frames\n",
    "# ==================\n",
    "\n",
    "# Add the Unique ID ('site_unique') to the Species Occurrence Data Frame\n",
    "# ----------------------------------------------------------------------\n",
    "AP.data.SppbySites.PcC.PFC$site_unique = rownames(AP.data.SppbySites.PcC.PFC)\n",
    "dim(AP.data.SppbySites.PcC.PFC)\n",
    "\n",
    "\n",
    "# Merge Data Frames by Unique ID ('site_unique')\n",
    "# ----------------------------------------------\n",
    "# Include all Variables in Species Occurrence Data Frame. To do so use 'names' function,\n",
    "# and 3 variables in the AP.data$site.info Data Frame (bioregion_name.f, longitude, and latitude)\n",
    "AP.data.SppbySites.PcC.PFC = merge(AP.data.SppbySites.PcC.PFC, AP.data$site.info, \n",
    "                                   by=\"site_unique\")[,c(names(AP.data.SppbySites.PcC.PFC), \n",
    "                                    \"bioregion_name\", \"longitude\", \"latitude\")]\n",
    "dim(AP.data.SppbySites.PcC.PFC)\n",
    "tail(names(AP.data.SppbySites.PcC.PFC))\n",
    "\n",
    "\n",
    "# Plot\n",
    "# ----\n",
    "\n",
    "# Simple version\n",
    "#plot(AP.data.SppbySites.PcC.PFC$longitude, AP.data.SppbySites.PcC.PFC$latitude, \n",
    "#     xlab=\"Longitude (degrees)\", ylab=\"Latitude (degrees)\")\n",
    "\n",
    "# Compute variable containing the Total Percent Cover per Site ('Tot_PcC')\n",
    "# '-4' 'cos we have added: 'site_unique', 'bioregion_name', 'logitude', 'latitude'.\n",
    "AP.data.SppbySites.PcC.PFC$Tot_PcC = rowSums(AP.data.SppbySites.PcC.PFC[,1:(dim(AP.data.SppbySites.PcC.PFC)[2]-4)])\n",
    "tail(names(AP.data.SppbySites.PcC.PFC))\n",
    "\n",
    "# Plot using functions in 'ggplot2' package\n",
    "library(ggplot2)\n",
    "ggplot(AP.data.SppbySites.PcC.PFC, aes(x=longitude, y=latitude)) + geom_point(aes(size=Tot_PcC), alpha=0.5)"
   ]
  },
  {
   "cell_type": "markdown",
   "metadata": {},
   "source": [
    "# Part 5: PROPORTIONAL VEGETATION COVER (= FRACTIONAL COVER)\n",
    "## `fractional_cover` function\n",
    "\n",
    "The `fractional_cover` function in the `auscoverR` package calculates fractional cover from AusPlots point intercept (PI) data (as generated by `get_ausplots`). Fractional cover refers to the proportions of green vegetation, dead vegetation and bare substrate cover. Cover fractions are assigned as follows:\n",
    "* _‘Green’_ or _‘photosynthetic vegetation’_: is living vascular plant cover.\n",
    "* _‘Brown’_ or _‘non-photosynthetic vegetation’_: is either vascular plant cover scored as ‘dead’, or substrate scored as litter, coarse woody debris or cryptogam (see below) that has no other veg cover.\n",
    "* _‘Bare’_ or _‘bare ground’_: is rock, outcrop, gravel or bare soil with no veg cover substrate.\n",
    "\n",
    "Typically, 1010 intercept points are used to compute fractional cover in a plot. These 1010 intercept points correspond to 101 points per transect (i.e. 101 points at 1 meters intervals in each of the 100 metres long transect) x 10 transects (5 transects oriented North to South and 5 oriented East to West). Further details about the AusPlots methods can be found in TERN's DSDP [AusPlots Methods Knowledge Base](https://ternaus.atlassian.net/wiki/spaces/ESM/pages/651329908/Ecosystem+Surveillance+Monitoring+-+AusPlots+Methods) and the [AusPlots Rangelands Survey Protocol Manual](https://www.tern.org.au/AusPlots-Rangelands-Survey-Protocols-Manual-pg23944.html). The percentage scored for each fraction is computed as the number of hits assigned to each fraction times 100 divided by the total number of PIs taken (usually 1010, but this number can vary).\n",
    "\n",
    "A height rule is applied, so that scoring the green/brown/bare fraction from point intercept hits of the uppermost vegetation/substrate stratum overrides the others. That is, a dead tree overrides a living shrub beneath and vice versa. Similarly, any vegetation cover overrides substrate coding, etc. This means for each of the intercepts, there is a single coding. \n",
    "\n",
    "Arguments:\n",
    "* `ground_fractional`: When set to ‘TRUE’ it computes fractional cover exclusively for Ground Cover. That is, fractional cover is computed only for grasses (hummock, tussock, other); sedge; rush; forb; fern; and vine plant growth forms. Presently, cryptogam cover is excluded, and included in the non-photosynthetic fraction instead. The default for this argument is ‘FALSE’.\n",
    "* `in_canopy_sky`: With the default value (`in_canopy_sky = FALSE`), only the substrate is considered for those hits. This argument applies only to regular fractional cover (i.e. for `ground_fractional = FALSE`), as trees are excluded in the green fraction for ground fractional cover by default.\n",
    "\n",
    "Occasionally, substrate type was not collected (i.e. ‘NC’) or could not be assigned to one of the above categories (i.e. ‘Unknwn’). In these cases, if there was no vegetation cover above those points percent cover is scored as an ‘NA’ fraction.\n",
    "\n",
    "The `fractional_cover` function returns a data frame. In this data frame rows denote plots, columns denote fractions (i.e. bare, brown, green, and NA), and values are cover percentages.\n",
    "\n",
    "Examples of the use of the `fractional_cover` funtion are presented below. In the examples, different flavours of Fractional Cover are computed by varying the argument values (see above). Fractional cover is computed for the full set of vegetation point intersect data currently available at AusPlots, so running these examples might take a little bit of time (between 1.6 and 1.9 minutes per example in my machine). The list of data frames containing information for all currently available AusPlots sites (i.e. the 'AP.data' list) was previously created using the `get_ausplots` function (see above). The resulting 'Fractional Cover' data frames can be enriched with additional information as seen above for the `species_table` function in the 'Manipulating AusPlots data II: Merging data frames' section."
   ]
  },
  {
   "cell_type": "code",
   "execution_count": 30,
   "metadata": {},
   "outputs": [
    {
     "name": "stderr",
     "output_type": "stream",
     "text": [
      "Warning message in reshapeWide(data, idvar = idvar, timevar = timevar, varying = varying, :\n",
      "“there are records with missing times, which will be dropped.”"
     ]
    },
    {
     "data": {
      "text/html": [
       "'data.frame'"
      ],
      "text/latex": [
       "'data.frame'"
      ],
      "text/markdown": [
       "'data.frame'"
      ],
      "text/plain": [
       "[1] \"data.frame\""
      ]
     },
     "metadata": {},
     "output_type": "display_data"
    },
    {
     "data": {
      "text/html": [
       "<ol class=list-inline>\n",
       "\t<li>683</li>\n",
       "\t<li>5</li>\n",
       "</ol>\n"
      ],
      "text/latex": [
       "\\begin{enumerate*}\n",
       "\\item 683\n",
       "\\item 5\n",
       "\\end{enumerate*}\n"
      ],
      "text/markdown": [
       "1. 683\n",
       "2. 5\n",
       "\n",
       "\n"
      ],
      "text/plain": [
       "[1] 683   5"
      ]
     },
     "metadata": {},
     "output_type": "display_data"
    },
    {
     "data": {
      "text/html": [
       "<table>\n",
       "<thead><tr><th></th><th scope=col>site_unique</th><th scope=col>bare</th><th scope=col>brown</th><th scope=col>green</th><th scope=col>NA.</th></tr></thead>\n",
       "<tbody>\n",
       "\t<tr><th scope=row>NSABBS0001-58580</th><td>NSABBS0001-58580</td><td> 7.52           </td><td>55.05           </td><td>37.33           </td><td>0.1             </td></tr>\n",
       "\t<tr><th scope=row>NSABBS0002-58555</th><td>NSABBS0002-58555</td><td>17.13           </td><td>42.18           </td><td>40.59           </td><td>0.1             </td></tr>\n",
       "\t<tr><th scope=row>NSABBS0003-58581</th><td>NSABBS0003-58581</td><td> 3.76           </td><td>45.84           </td><td>50.40           </td><td>0.0             </td></tr>\n",
       "\t<tr><th scope=row>NSABBS0004-58556</th><td>NSABBS0004-58556</td><td> 3.07           </td><td>34.95           </td><td>61.98           </td><td>0.0             </td></tr>\n",
       "\t<tr><th scope=row>NSABBS0005-58582</th><td>NSABBS0005-58582</td><td> 1.09           </td><td>39.60           </td><td>59.31           </td><td>0.0             </td></tr>\n",
       "\t<tr><th scope=row>NSABBS0006-58557</th><td>NSABBS0006-58557</td><td> 3.17           </td><td>32.67           </td><td>64.06           </td><td>0.1             </td></tr>\n",
       "</tbody>\n",
       "</table>\n"
      ],
      "text/latex": [
       "\\begin{tabular}{r|lllll}\n",
       "  & site\\_unique & bare & brown & green & NA.\\\\\n",
       "\\hline\n",
       "\tNSABBS0001-58580 & NSABBS0001-58580 &  7.52            & 55.05            & 37.33            & 0.1             \\\\\n",
       "\tNSABBS0002-58555 & NSABBS0002-58555 & 17.13            & 42.18            & 40.59            & 0.1             \\\\\n",
       "\tNSABBS0003-58581 & NSABBS0003-58581 &  3.76            & 45.84            & 50.40            & 0.0             \\\\\n",
       "\tNSABBS0004-58556 & NSABBS0004-58556 &  3.07            & 34.95            & 61.98            & 0.0             \\\\\n",
       "\tNSABBS0005-58582 & NSABBS0005-58582 &  1.09            & 39.60            & 59.31            & 0.0             \\\\\n",
       "\tNSABBS0006-58557 & NSABBS0006-58557 &  3.17            & 32.67            & 64.06            & 0.1             \\\\\n",
       "\\end{tabular}\n"
      ],
      "text/markdown": [
       "\n",
       "| <!--/--> | site_unique | bare | brown | green | NA. | \n",
       "|---|---|---|---|---|---|\n",
       "| NSABBS0001-58580 | NSABBS0001-58580 |  7.52            | 55.05            | 37.33            | 0.1              | \n",
       "| NSABBS0002-58555 | NSABBS0002-58555 | 17.13            | 42.18            | 40.59            | 0.1              | \n",
       "| NSABBS0003-58581 | NSABBS0003-58581 |  3.76            | 45.84            | 50.40            | 0.0              | \n",
       "| NSABBS0004-58556 | NSABBS0004-58556 |  3.07            | 34.95            | 61.98            | 0.0              | \n",
       "| NSABBS0005-58582 | NSABBS0005-58582 |  1.09            | 39.60            | 59.31            | 0.0              | \n",
       "| NSABBS0006-58557 | NSABBS0006-58557 |  3.17            | 32.67            | 64.06            | 0.1              | \n",
       "\n",
       "\n"
      ],
      "text/plain": [
       "                 site_unique      bare  brown green NA.\n",
       "NSABBS0001-58580 NSABBS0001-58580  7.52 55.05 37.33 0.1\n",
       "NSABBS0002-58555 NSABBS0002-58555 17.13 42.18 40.59 0.1\n",
       "NSABBS0003-58581 NSABBS0003-58581  3.76 45.84 50.40 0.0\n",
       "NSABBS0004-58556 NSABBS0004-58556  3.07 34.95 61.98 0.0\n",
       "NSABBS0005-58582 NSABBS0005-58582  1.09 39.60 59.31 0.0\n",
       "NSABBS0006-58557 NSABBS0006-58557  3.17 32.67 64.06 0.1"
      ]
     },
     "metadata": {},
     "output_type": "display_data"
    },
    {
     "data": {
      "text/plain": [
       " site_unique             bare           brown           green      \n",
       " Length:683         Min.   : 0.00   Min.   : 0.00   Min.   : 0.10  \n",
       " Class :character   1st Qu.: 9.06   1st Qu.:20.69   1st Qu.:23.17  \n",
       " Mode  :character   Median :22.08   Median :29.60   Median :38.81  \n",
       "                    Mean   :27.42   Mean   :30.66   Mean   :41.63  \n",
       "                    3rd Qu.:42.33   3rd Qu.:39.92   3rd Qu.:56.88  \n",
       "                    Max.   :98.71   Max.   :77.82   Max.   :97.92  \n",
       "      NA.         \n",
       " Min.   : 0.0000  \n",
       " 1st Qu.: 0.0000  \n",
       " Median : 0.0000  \n",
       " Mean   : 0.2854  \n",
       " 3rd Qu.: 0.0000  \n",
       " Max.   :69.9000  "
      ]
     },
     "metadata": {},
     "output_type": "display_data"
    },
    {
     "name": "stderr",
     "output_type": "stream",
     "text": [
      "Warning message in reshapeWide(data, idvar = idvar, timevar = timevar, varying = varying, :\n",
      "“there are records with missing times, which will be dropped.”"
     ]
    },
    {
     "data": {
      "text/html": [
       "<table>\n",
       "<thead><tr><th></th><th scope=col>site_unique</th><th scope=col>bare</th><th scope=col>brown</th><th scope=col>green</th><th scope=col>NA.</th></tr></thead>\n",
       "<tbody>\n",
       "\t<tr><th scope=row>NSABBS0001-58580</th><td>NSABBS0001-58580</td><td> 7.03           </td><td>47.82           </td><td>45.05           </td><td>0.1             </td></tr>\n",
       "\t<tr><th scope=row>NSABBS0002-58555</th><td>NSABBS0002-58555</td><td>17.13           </td><td>41.78           </td><td>40.99           </td><td>0.1             </td></tr>\n",
       "\t<tr><th scope=row>NSABBS0003-58581</th><td>NSABBS0003-58581</td><td> 3.47           </td><td>41.78           </td><td>54.75           </td><td>0.0             </td></tr>\n",
       "\t<tr><th scope=row>NSABBS0004-58556</th><td>NSABBS0004-58556</td><td> 2.57           </td><td>29.60           </td><td>67.82           </td><td>0.0             </td></tr>\n",
       "\t<tr><th scope=row>NSABBS0005-58582</th><td>NSABBS0005-58582</td><td> 1.09           </td><td>36.53           </td><td>62.38           </td><td>0.0             </td></tr>\n",
       "\t<tr><th scope=row>NSABBS0006-58557</th><td>NSABBS0006-58557</td><td> 2.77           </td><td>27.33           </td><td>69.80           </td><td>0.1             </td></tr>\n",
       "</tbody>\n",
       "</table>\n"
      ],
      "text/latex": [
       "\\begin{tabular}{r|lllll}\n",
       "  & site\\_unique & bare & brown & green & NA.\\\\\n",
       "\\hline\n",
       "\tNSABBS0001-58580 & NSABBS0001-58580 &  7.03            & 47.82            & 45.05            & 0.1             \\\\\n",
       "\tNSABBS0002-58555 & NSABBS0002-58555 & 17.13            & 41.78            & 40.99            & 0.1             \\\\\n",
       "\tNSABBS0003-58581 & NSABBS0003-58581 &  3.47            & 41.78            & 54.75            & 0.0             \\\\\n",
       "\tNSABBS0004-58556 & NSABBS0004-58556 &  2.57            & 29.60            & 67.82            & 0.0             \\\\\n",
       "\tNSABBS0005-58582 & NSABBS0005-58582 &  1.09            & 36.53            & 62.38            & 0.0             \\\\\n",
       "\tNSABBS0006-58557 & NSABBS0006-58557 &  2.77            & 27.33            & 69.80            & 0.1             \\\\\n",
       "\\end{tabular}\n"
      ],
      "text/markdown": [
       "\n",
       "| <!--/--> | site_unique | bare | brown | green | NA. | \n",
       "|---|---|---|---|---|---|\n",
       "| NSABBS0001-58580 | NSABBS0001-58580 |  7.03            | 47.82            | 45.05            | 0.1              | \n",
       "| NSABBS0002-58555 | NSABBS0002-58555 | 17.13            | 41.78            | 40.99            | 0.1              | \n",
       "| NSABBS0003-58581 | NSABBS0003-58581 |  3.47            | 41.78            | 54.75            | 0.0              | \n",
       "| NSABBS0004-58556 | NSABBS0004-58556 |  2.57            | 29.60            | 67.82            | 0.0              | \n",
       "| NSABBS0005-58582 | NSABBS0005-58582 |  1.09            | 36.53            | 62.38            | 0.0              | \n",
       "| NSABBS0006-58557 | NSABBS0006-58557 |  2.77            | 27.33            | 69.80            | 0.1              | \n",
       "\n",
       "\n"
      ],
      "text/plain": [
       "                 site_unique      bare  brown green NA.\n",
       "NSABBS0001-58580 NSABBS0001-58580  7.03 47.82 45.05 0.1\n",
       "NSABBS0002-58555 NSABBS0002-58555 17.13 41.78 40.99 0.1\n",
       "NSABBS0003-58581 NSABBS0003-58581  3.47 41.78 54.75 0.0\n",
       "NSABBS0004-58556 NSABBS0004-58556  2.57 29.60 67.82 0.0\n",
       "NSABBS0005-58582 NSABBS0005-58582  1.09 36.53 62.38 0.0\n",
       "NSABBS0006-58557 NSABBS0006-58557  2.77 27.33 69.80 0.1"
      ]
     },
     "metadata": {},
     "output_type": "display_data"
    },
    {
     "data": {
      "text/plain": [
       " site_unique             bare           brown           green      \n",
       " Length:683         Min.   : 0.00   Min.   : 0.00   Min.   : 0.10  \n",
       " Class :character   1st Qu.: 8.66   1st Qu.:18.96   1st Qu.:25.10  \n",
       " Mode  :character   Median :21.58   Median :28.10   Median :41.68  \n",
       "                    Mean   :27.08   Mean   :29.00   Mean   :43.63  \n",
       "                    3rd Qu.:41.78   3rd Qu.:37.95   3rd Qu.:61.48  \n",
       "                    Max.   :98.71   Max.   :72.67   Max.   :97.92  \n",
       "      NA.         \n",
       " Min.   : 0.0000  \n",
       " 1st Qu.: 0.0000  \n",
       " Median : 0.0000  \n",
       " Mean   : 0.2819  \n",
       " 3rd Qu.: 0.0000  \n",
       " Max.   :69.9000  "
      ]
     },
     "metadata": {},
     "output_type": "display_data"
    },
    {
     "name": "stderr",
     "output_type": "stream",
     "text": [
      "Warning message in reshapeWide(data, idvar = idvar, timevar = timevar, varying = varying, :\n",
      "“there are records with missing times, which will be dropped.”"
     ]
    },
    {
     "data": {
      "text/html": [
       "<table>\n",
       "<thead><tr><th></th><th scope=col>site_unique</th><th scope=col>bare</th><th scope=col>brown</th><th scope=col>green</th><th scope=col>NA.</th></tr></thead>\n",
       "<tbody>\n",
       "\t<tr><th scope=row>NSABBS0001-58580</th><td>NSABBS0001-58580</td><td> 9.70           </td><td>85.25           </td><td>4.95            </td><td>0.1             </td></tr>\n",
       "\t<tr><th scope=row>NSABBS0002-58555</th><td>NSABBS0002-58555</td><td>25.05           </td><td>68.02           </td><td>6.83            </td><td>0.1             </td></tr>\n",
       "\t<tr><th scope=row>NSABBS0003-58581</th><td>NSABBS0003-58581</td><td> 5.94           </td><td>94.06           </td><td>0.00            </td><td>0.0             </td></tr>\n",
       "\t<tr><th scope=row>NSABBS0004-58556</th><td>NSABBS0004-58556</td><td> 6.73           </td><td>93.07           </td><td>0.10            </td><td>0.1             </td></tr>\n",
       "\t<tr><th scope=row>NSABBS0005-58582</th><td>NSABBS0005-58582</td><td> 1.58           </td><td>98.42           </td><td>0.00            </td><td>0.0             </td></tr>\n",
       "\t<tr><th scope=row>NSABBS0006-58557</th><td>NSABBS0006-58557</td><td> 5.35           </td><td>94.36           </td><td>0.20            </td><td>0.1             </td></tr>\n",
       "</tbody>\n",
       "</table>\n"
      ],
      "text/latex": [
       "\\begin{tabular}{r|lllll}\n",
       "  & site\\_unique & bare & brown & green & NA.\\\\\n",
       "\\hline\n",
       "\tNSABBS0001-58580 & NSABBS0001-58580 &  9.70            & 85.25            & 4.95             & 0.1             \\\\\n",
       "\tNSABBS0002-58555 & NSABBS0002-58555 & 25.05            & 68.02            & 6.83             & 0.1             \\\\\n",
       "\tNSABBS0003-58581 & NSABBS0003-58581 &  5.94            & 94.06            & 0.00             & 0.0             \\\\\n",
       "\tNSABBS0004-58556 & NSABBS0004-58556 &  6.73            & 93.07            & 0.10             & 0.1             \\\\\n",
       "\tNSABBS0005-58582 & NSABBS0005-58582 &  1.58            & 98.42            & 0.00             & 0.0             \\\\\n",
       "\tNSABBS0006-58557 & NSABBS0006-58557 &  5.35            & 94.36            & 0.20             & 0.1             \\\\\n",
       "\\end{tabular}\n"
      ],
      "text/markdown": [
       "\n",
       "| <!--/--> | site_unique | bare | brown | green | NA. | \n",
       "|---|---|---|---|---|---|\n",
       "| NSABBS0001-58580 | NSABBS0001-58580 |  9.70            | 85.25            | 4.95             | 0.1              | \n",
       "| NSABBS0002-58555 | NSABBS0002-58555 | 25.05            | 68.02            | 6.83             | 0.1              | \n",
       "| NSABBS0003-58581 | NSABBS0003-58581 |  5.94            | 94.06            | 0.00             | 0.0              | \n",
       "| NSABBS0004-58556 | NSABBS0004-58556 |  6.73            | 93.07            | 0.10             | 0.1              | \n",
       "| NSABBS0005-58582 | NSABBS0005-58582 |  1.58            | 98.42            | 0.00             | 0.0              | \n",
       "| NSABBS0006-58557 | NSABBS0006-58557 |  5.35            | 94.36            | 0.20             | 0.1              | \n",
       "\n",
       "\n"
      ],
      "text/plain": [
       "                 site_unique      bare  brown green NA.\n",
       "NSABBS0001-58580 NSABBS0001-58580  9.70 85.25 4.95  0.1\n",
       "NSABBS0002-58555 NSABBS0002-58555 25.05 68.02 6.83  0.1\n",
       "NSABBS0003-58581 NSABBS0003-58581  5.94 94.06 0.00  0.0\n",
       "NSABBS0004-58556 NSABBS0004-58556  6.73 93.07 0.10  0.1\n",
       "NSABBS0005-58582 NSABBS0005-58582  1.58 98.42 0.00  0.0\n",
       "NSABBS0006-58557 NSABBS0006-58557  5.35 94.36 0.20  0.1"
      ]
     },
     "metadata": {},
     "output_type": "display_data"
    },
    {
     "data": {
      "text/plain": [
       " site_unique             bare           brown           green      \n",
       " Length:683         Min.   : 0.00   Min.   : 0.00   Min.   : 0.00  \n",
       " Class :character   1st Qu.:12.57   1st Qu.:33.81   1st Qu.: 3.76  \n",
       " Mode  :character   Median :25.74   Median :50.79   Median :11.98  \n",
       "                    Mean   :30.65   Mean   :51.90   Mean   :17.04  \n",
       "                    3rd Qu.:46.46   3rd Qu.:71.69   3rd Qu.:25.59  \n",
       "                    Max.   :99.60   Max.   :98.42   Max.   :97.92  \n",
       "      NA.         \n",
       " Min.   : 0.0000  \n",
       " 1st Qu.: 0.0000  \n",
       " Median : 0.0000  \n",
       " Mean   : 0.3979  \n",
       " 3rd Qu.: 0.1000  \n",
       " Max.   :82.0800  "
      ]
     },
     "metadata": {},
     "output_type": "display_data"
    }
   ],
   "source": [
    "# ===============================================================================\n",
    "# PROPORTIONAL VEGETATION COVER (= FRACTIONAL COVER): 'fractional_cover' function\n",
    "# ===============================================================================\n",
    "\n",
    "# Fractional Cover: 'Regular' Fractional Cover, only for Substrate\n",
    "# ================================================================\n",
    "# I.e.: Function call with the default argument values\n",
    "AP.data.FC.RFC.Substrate = fractional_cover(AP.data$veg.PI, ground_fractional=\"FALSE\", in_canopy_sky=\"FALSE\")\n",
    "class(AP.data.FC.RFC.Substrate)\n",
    "dim(AP.data.FC.RFC.Substrate)\n",
    "head(AP.data.FC.RFC.Substrate)\n",
    "summary(AP.data.FC.RFC.Substrate)\n",
    "\n",
    "# Fractional Cover: 'Regular' Fractional Cover, including Trees\n",
    "# =============================================================\n",
    "AP.data.FC.RFC.Trees = fractional_cover(AP.data$veg.PI, ground_fractional=\"FALSE\", in_canopy_sky=\"TRUE\")\n",
    "#class(AP.data.FC.RFC.Trees)\n",
    "#dim(AP.data.FC.RFC.Trees)\n",
    "head(AP.data.FC.RFC.Trees)\n",
    "summary(AP.data.FC.RFC.Trees)\n",
    "\n",
    "# Fractional Cover: Fractional Ground Cover\n",
    "# =========================================\n",
    "AP.data.FC.RFC.Trees = fractional_cover(AP.data$veg.PI, ground_fractional=\"TRUE\")\n",
    "#class(AP.data.FC.RFC.Trees)\n",
    "#dim(AP.data.FC.RFC.Trees)\n",
    "head(AP.data.FC.RFC.Trees)\n",
    "summary(AP.data.FC.RFC.Trees)"
   ]
  },
  {
   "cell_type": "markdown",
   "metadata": {},
   "source": [
    "# Part 6: Plant Growth Form data\n",
    "## `growth_form_table` function\n",
    "\n",
    "The `growth_form_table` function in the `ausplotR` package can be used to generate occurrence matrices for plant growth forms in the AusPlots plots. The plant growth forms considered are those in the National Vegetation Information System (NVIS; Executive Steering Committee for Australian Vegetation Information, 2003). \n",
    "\n",
    "The input for the `growth_form_table` function is a data frame of raw AusPlots point intercept data generated using the `get_ausplots function`. Three metrics can be selected to score species growth form:\n",
    "* _Presence/Absence_: Set by the argument `m_kind = \"PA\"`.\n",
    "* _Percent Cover_: Based on total frequency of hits. Set by the argument `m_kind = \"percent_cover\"`. This is the most useful and commonly used metric. It can be subsequently used in statistical analyses (e.g. MANOVA, Ordination, Classification, etc.) at continental scale where species turnover is too high for some methods to provide meaningful results.\n",
    "* _Species Richness_: Set by the argument `m_kind = \"richness\"`. Note that when 'm_kind' is set to \"richness\" the rowSums of the occurrence matrix can be higher than the observed SR because in some occasions the same species is recorded with different growth forms in a plot and therefore the same species can count towards the weights for multiple growth forms.\n",
    "\n",
    "When Percent Cover is used two types of cover type can be selected:\n",
    "* _Projected Foliage Cover (PFC)_: Hits scored as 'in canopy sky' are removed. Set by the argument `cover_type = \"PFC\"`.\n",
    "* _Opaque Canopy Cover (OCC)_: Hits scored as 'in canopy sky' are retained. Set by the argument `cover_type = \"OCC\"`.\n",
    "The output of the `growth_form_table` function is a data frame. In this output data frame rows correspond to unique sites, columns to NVIS plant growth forms, and cell values are either Presence/Absences, Percent Cover, or Species Richness depending on the option chosen for the ‘m_kind’ argument.\n",
    "\n",
    "\n",
    "REFERENCES  \n",
    "*National Vegetation Information System, Version 6.0*\n",
    "Executive Steering Committee for Australian Vegetation Information (ESCAVI)  \n",
    "Department of the Environment and Heritage, 2003  \n",
    "ISBN 0 642 54953 2.\n",
    "\n",
    "\n",
    "Examples of the use of the 'growth_form_table' funtion are presented below. In the examples growth form ocurrences are computed using different scoring metrics (i.e. Presence/Absence, Percentage Cover, and Species Richness) by varying the argument values (see above). Growth form types occurrences are computed for the full set of vegetation point intersect data currently available at AusPlots. The list of data frames containing information for all currently available AusPlots sites (i.e. the 'AP.data' list) was previously created using the `get_ausplots` function (see above). The resulting 'Plant Growth Form' data frames can be enriched with additional information as seen above for the `species_table` function in the 'Manipulating AusPlots data II: Merging data frames' section."
   ]
  },
  {
   "cell_type": "code",
   "execution_count": null,
   "metadata": {},
   "outputs": [],
   "source": [
    "# ====================================================\n",
    "# PLANT GROWTH FORM DATA: 'growth_form_table' function\n",
    "# ====================================================\n",
    "\n",
    "# NVIS Plant Growth Forms Occurrence Matrix,' Presence/Absence' scoring metric\n",
    "# ============================================================================\n",
    "AP.data.PGF.PA = growth_form_table(AP.data$veg.PI, m_kind=\"PA\")\n",
    "class(AP.data.PGF.PA)\n",
    "dim(AP.data.PGF.PA)\n",
    "head(AP.data.PGF.PA)\n",
    "summary(AP.data.PGF.PA)\n",
    "\n",
    "# NVIS Plant Growth Forms Occurrence Matrix, 'Percentage Cover' scoring metric with 'Projected Foliage Cover' option\n",
    "# ==================================================================================================================\n",
    "AP.data.PGF.PC.PFC = growth_form_table(AP.data$veg.PI, m_kind=\"percent_cover\", cover_type=\"PFC\")\n",
    "#class(AP.data.PGF.PC.PFC)\n",
    "#dim(AP.data.PGF.PC.PFC)\n",
    "head(AP.data.PGF.PC.PFC)\n",
    "summary(AP.data.PGF.PC.PFC)\n",
    "\n",
    "# NVIS Plant Growth Forms Occurrence Matrix, 'Percentage Cover' scoring metric with 'Opaque Canopy Cover' option\n",
    "# ==============================================================================================================\n",
    "AP.data.PGF.PC = growth_form_table(AP.data$veg.PI, m_kind=\"percent_cover\", cover_type=\"OCC\")\n",
    "#class(AP.data.PGF.PC)\n",
    "#dim(AP.data.PGF.PC)\n",
    "head(AP.data.PGF.PC)\n",
    "summary(AP.data.PGF.PC)\n",
    "\n",
    "# NVIS Plant Growth Forms Occurrence Matrix, 'Species Richness' scoring metric\n",
    "# ============================================================================\n",
    "AP.data.PGF.SR = growth_form_table(AP.data$veg.PI, m_kind=\"richness\")\n",
    "#class(AP.data.PGF.SR)\n",
    "#dim(AP.data.PGF.SR)\n",
    "head(AP.data.PGF.SR)\n",
    "summary(AP.data.PGF.SR)"
   ]
  },
  {
   "cell_type": "markdown",
   "metadata": {},
   "source": [
    "# Part 7: Vegetation Cover data by Growth Form and/or Height\n",
    "## `single_cover_value` function\n",
    "\n",
    "The `single_cover_value` function in the `auplotsR` package calculates Vegetation Cover Values for particular Growth Form Types and/or Height Thresholds per Site from Raw AusPlots Vegetation Point Intercept data. The `growth_form_table` function can also be used to calculate Cover Values for all Vegetation Growth Form Types; however, `single_cover_value` can perform these computations for:\n",
    "* Particular vegetation growth form types (i.e. for individual growth forms or any combination of growth form types).\n",
    "* Vegetation higher that a specified height threshold\n",
    "* Vegetation with any combination of growth form types and minimum height\n",
    "\n",
    "Specifically `single_cover_value` takes the following inputs via its arguments:\n",
    "* `veg.PI`: Raw Vegetation Point Intercept data from AusPlots. A veg.PI data frame generated by the `get_ausplots` function (see above).\n",
    "* `in_canopy_sky`: Method used to calculate Cover. A logical value that indicates whether to use in ‘canopy sky hits’ (i.e. calculate ‘opaque canopy cover’) or ‘projected foliage cover’. The default value, ‘FALSE’, calculates ‘projected foliage cover’. To calculate ‘opaque canopy cover’ the argument must be set to ‘TRUE’.\n",
    "* `by.growth_form`: Whether to calculate Cover for a Subset by Growth Form type. A logical value that indicates whether to subset by growth form type. The default, ‘TRUE’, calculates cover for the growth form types specified in the argument ‘my.growth_forms’ (see next). If set to ‘FALSE’, cover calculations are conducted only for the vegetation sub-set by a provided Minimum Height Threshold.\n",
    "* `my.growth_forms`: Growth Form Types used to Subset Data used for the Cover Calculations. A character vector specifying the growth form types to subset the data used for the cover calculations. Any combination of growth form types can be used. The default, ‘c(\"Tree/Palm\", \"Tree Mallee\")’, is set to represent trees. It applies only when ‘by.growth_form=TRUE’; otherwise, this argument is ignored and only height sub-setting is applied.\n",
    "* `min.height`: Minimum Height Threshold used to Subset Data used for the Cover Calculations. A numeric value indicating the minimum height (in metres) of the vegetation to be included in the subset of the data used for the cover calculations. A height must be always provided. The default, ‘5’, is set up for a cover of trees. It can be set to ‘0’ to ignore height and thus include any plant hit. If set to a ‘negative number’, it will return nonsensical output.\n",
    "\n",
    "The `single_cover_value` function returns a data frame with two columns. The data frame rows correspond to unique sites, while the two columns correspond to the unique site and the percentage cover for the requested subset of vegetation (e.g. “Tree/Palm” higher than '5' metres).\n",
    " \n",
    "When `by.growth_form = FALSE` and `min.height = 0`, the output is nearly the same as the green cover fraction returned by the `fractional_cover` function (see above). The values can differ because ‘fractional_cover’ applies a ‘height rule’ in which the highest intercept at a given point is taken, whereas ‘single_cover_value’ finds any green cover. For example, when dead trees overhang green understorey the values returned by both functions can differ. For general cover purposes, using ‘fractional_cover’ is recommended.  ‘single_cover_value’ is best suited to calculate cover subset by height and growth form.\n",
    "\n",
    "\n",
    "Examples of the use of the `single_cover_value` function to compute Cover Values for particular Vegetation Growth Form Types and/or Height Thresholds per Site are presented below. Examples of how to manipulate, display, and use the data generated by the `single_cover_value` function can be found in TERN’s DSDP [‘ECOSYSTEM SURVEILLANCE (AusPlots) TUTORIAL: UNDERSTANDING AND USING THE ‘ausplotsR’ PACKAGE AND AusPlots DATA’]( https://github.com/ternaustralia/TERN-Data-Skills/tree/master/EcosystemSurveillance_PlotData/AusPlots_Tutorial) Tutorial. Cover values (for particular vegetation growth form types and/or height thersholds) are computed for the full set of vegetation point intersect data currently available at AusPlots. The list of data frames containing information for all currently available AusPlots sites (i.e. the 'AP.data' list) was previously created using the `get_ausplots` function (see above). The resulting cover values data frames can be enriched with additional information as seen above for the species_table function in the 'Manipulating AusPlots data II: Merging data frames' section. The examples presented below cover different scenarios for sub-setting the input vegetation point intercept data frame prior to the calculation of the required vegetation cover values. Specifically, we explore how compute cover values: (1) sub-setting only by Height, (2) sub-setting only by Taxonomy, and (3) sub-setting by both Height and Taxonomy. We Combine the outputs of a single type (i.e. Height or Growth Form) into a Single Data Frame."
   ]
  },
  {
   "cell_type": "code",
   "execution_count": null,
   "metadata": {},
   "outputs": [],
   "source": [
    "# ====================================================\n",
    "# VEGETATION COVER DATA: 'single_cover_value' function\n",
    "# ====================================================\n",
    "\n",
    "# Vegetation Cover data, sub-setting only by Height\n",
    "# =================================================\n",
    "\n",
    "# Vegetation Cover of any Growth Form > 0m\n",
    "# ----------------------------------------\n",
    "AP.data.VC.gt0 = single_cover_value(AP.data$veg.PI, by.growth_form=FALSE, min.height=0)\n",
    "class(AP.data.VC.gt0)\n",
    "dim(AP.data.VC.gt0)\n",
    "head(AP.data.VC.gt0)\n",
    "summary(AP.data.VC.gt0)\n",
    "\n",
    "# Vegetation Cover of any Growth Form > 2m\n",
    "# ----------------------------------------\n",
    "AP.data.VC.gt2 = single_cover_value(AP.data$veg.PI, by.growth_form=FALSE, min.height=2)\n",
    "#class(AP.data.VC.gt0)\n",
    "#dim(AP.data.VC.gt0)\n",
    "head(AP.data.VC.gt0)\n",
    "summary(AP.data.VC.gt0)\n",
    "\n",
    "# Results (> 0m, > 2m, and 0 to 2m) combined in a single Data Frame\n",
    "# -----------------------------------------------------------------\n",
    "AP.data.VC.Height = data.frame(site_unique=AP.data.VC.gt0$site_unique, \n",
    "                               VCF.gt0=AP.data.VC.gt0$percentCover, \n",
    "                               VCF.gt2=AP.data.VC.gt2$percentCover, \n",
    "                               VCG.0to2=(AP.data.VC.gt0$percentCover-AP.data.VC.gt2$percentCover))\n",
    "head(AP.data.VC.Height)\n",
    "summary(AP.data.VC.Height)\n",
    "\n",
    "\n",
    "# Vegetation Cover data, sub-setting only by Taxonomy\n",
    "# ===================================================\n",
    "\n",
    "# Trees (my.growth_forms=c(\"Tree/Palm\", \"Tree Mallee\"), which is the default)\n",
    "# ---------------------------------------------------------------------------\n",
    "AP.data.VC.trees = single_cover_value(AP.data$veg.PI, min.height=0)\n",
    "#class(AP.data.VC.trees)\n",
    "#dim(AP.data.VC.trees)\n",
    "head(AP.data.VC.trees)\n",
    "summary(AP.data.VC.trees)\n",
    "\n",
    "# Grasses (my.growth_forms=c(\"Hummock.grass\", \"Tussock.grass\"))\n",
    "# ------------------------------------------------------------------\n",
    "AP.data.VC.grass = single_cover_value(AP.data$veg.PI, my.growth_forms=c(\"Hummock grass\", \"Tussock grass\"), min.height=0)\n",
    "#class(AP.data.VC.grass)\n",
    "#dim(AP.data.VC.grass)\n",
    "head(AP.data.VC.grass)\n",
    "summary(AP.data.VC.grass)\n",
    "\n",
    "# Results (trees & grass) combined in a single Data Frame\n",
    "# -----------------------------------------------------------------\n",
    "AP.data.VC.TreesGrass = data.frame(site_unique=AP.data.VC.trees$site_unique,\n",
    "                                   VCF.trees=AP.data.VC.trees$percentCover,\n",
    "\t\t\t\t\t\t\t\t   VCF.grass=AP.data.VC.grass$percentCover)\n",
    "head(AP.data.VC.TreesGrass)\n",
    "summary(AP.data.VC.TreesGrass)\n",
    "\n",
    "\n",
    "# Vegetation Cover data, sub-setting by both Height and Taxonomy\n",
    "# ==============================================================\n",
    "# Trees (my.growth_forms=c(\"Tree/Palm\", \"Tree Mallee\")) > 5 m.\n",
    "# 'c(\"Tree/Palm\", \"Tree Mallee\")' is the default values for 'my.growth.forms',\n",
    "# so it is not really necesary\n",
    "AP.data.VC.Trees.gt5 = single_cover_value(AP.data$veg.PI, \n",
    "                                          my.growth_forms=c(\"Tree/Palm\", \"Tree Mallee\"), min.height=5)\n",
    "#class(AP.data.VC.Trees.gt5)\n",
    "#dim(AP.data.VC.Trees.gt5)\n",
    "head(AP.data.VC.Trees.gt5)\n",
    "summary(AP.data.VC.Trees.gt5)"
   ]
  },
  {
   "cell_type": "markdown",
   "metadata": {},
   "source": [
    "# Part 8: Saving AusPlots data\n",
    "\n",
    "The `get_ausplots` function in the `ausplotsR` package extracts and compiles AusPlots data. Up to 8 different types of data can be obtained by setting the corresponding function arguments to TRUE/FALSE (i.e. `site_info`, `structural_summaries`, `veg.vouchers`, `veg.PI`, `basal.wedge`, `soil_subsites`, `soil_bulk_density`, and `soil_character`). AusPlots data are extracted in to a list containing  data frames, one data frame for data type requested. Other functions in the `ausplotsR` can be used to pre-process the AusPlots raw data, preparing it for exploration, visualisation, and/or analysis (i.e. `species_table`, `fractional_cover`, `growth_form_table`, `single_cover_value`, and `basal_area` functions). Each of these pre-processing functions returns data stored in a data frame. \n",
    "\n",
    "Often we want to store the AusPlots data that we have extracted and/or created (e.g. via pre-processing and enriching the data frame with additional data) for future work. The advantages in doing so include: \n",
    "* _Saving time:_ Loading AusPlots data from a file is typically much faster that extracting it live with the function `get_ausplots` (and even faster that extracting it and pre-processing it).\n",
    "* _Reproducibility:_ Extraction of AusPlots data is live, so it is possible that the data obtained between identical (i.e. with the same arguments) requests differ. Storing the data that we have used in our manipulations/visualisations/analyses in files allows reproducibility and seamless continuity of work.\n",
    "* _Portability:_ The data frames saves into files can be open by other software (e.g. spreadsheets packages, statistical packages,….).\n",
    "\n",
    "To store data contained in data frames we can used the functions `write.table`, `write.csv`, and `write.csv2` in the `utils` package (included in the R installation). See the functions help page for further details (i.e. ‘? write.table’). \n",
    "* `write.table`: Prints an R object, preferably a matrix or data frame, to a file or connection (“generalized files”, such as possibly compressed files, URLs, pipes, etc.). It allows great flexibility in the way the object it stored in the file via the function arguments.\n",
    "* `write.csv`: Wrapper for writing ‘CSV’ files in the format used in most countries (uses “.” for the decimal point and “,” as separator). Specifically, it sets the `write.table` arguments to ‘sep=”,”’, ‘dec=”.”’, ‘qmethod = \"double\"’, and ‘col.names = NA’ if ‘row.names = TRUE’ (the default) and to ‘TRUE’ otherwise.\n",
    "* `write.csv2`: Wrapper for writing ‘CSV’ files in the format used in some Wester European locales (uses “,” for the decimal point and “.” as separator). Specifically, it sets the `write.table` arguments to ‘sep=”.”’, ‘dec=”,”’, ‘qmethod = \"double\"’, and ‘col.names = NA’ if ‘row.names = TRUE’ (the default) and to ‘TRUE’ otherwise.\n",
    "\n",
    "List are generic vectors containing other objects.  They typically contain rugged data (i.e. data not in ‘rectangular’ form such as data contained in a matrix or data frame). This makes them unsuitable to be stored in a file using `write.table` and its derivative functions. We can save lists (or other R objects) to a `RData` file using the `save` function in the `base` package (included in the R installation). `RData` files are specific to R and can store multiple R objects into a single file. The list can then be read back into R from the file by using the functions `load` or `attach` (or `data` in some cases). See the functions help page for further details (i.e. ‘? save’, ‘? load’, and ‘? attach’). \n",
    "\n",
    "Examples of how to save AusPlots data into files are presented below. Examples include saving data frames using the functions `write.table` and `write.csv`, as well as saving list using the function `save`."
   ]
  },
  {
   "cell_type": "code",
   "execution_count": null,
   "metadata": {},
   "outputs": [],
   "source": [
    "# ====================\n",
    "# Saving AusPlots data\n",
    "# ====================\n",
    "\n",
    "# Provide Path for Directory where data will be stored\n",
    "file.path = \"Save_output\"\n",
    "\n",
    "# Extract Date and Create a String to Represent it. To be used as Part of the File Name\n",
    "today = toString(Sys.Date())\n",
    "today\n",
    "date.s = paste(substr(today,start=3,stop=4),substr(today,start=6,stop=7), \n",
    "               substr(today,start=9,stop=10),sep=\"\") \n",
    "date.s\n",
    "\n",
    "\n",
    "# Load 'auplotsR' library and Extract some AusPlots data\n",
    "library(ausplotsR)\n",
    "AP.data.l = get_ausplots( my.Plot_IDs=c(\"SATFLB0004\", \"QDAMGD0022\", \"NTASTU0002\"), \n",
    "                          structural_summaries=TRUE, basal.wedge=TRUE)\n",
    "\n",
    "\n",
    "# Save an AusPlots retrived Data Frame, using 'write.table'\n",
    "# =========================================================\n",
    "\n",
    "# Visualise summary of the retrived Raw Basal Wedge data\n",
    "summary(AP.data.l$veg.basal)\n",
    "\n",
    "# Create Name of the file to be stored (including the date)\n",
    "file.name = paste(\"AP_3Sites_BasalWedge\",date.s,sep=\"_\")\n",
    "file.name\n",
    "# Add the \"txt\" extension\n",
    "file.name = paste(file.name,\"txt\",sep=\".\")\n",
    "file.name\n",
    "\n",
    "# Save the Raw Basal Wedge data to a Text File with columns separated by tabs\n",
    "write.table(AP.data.l$veg.basal, paste(file.path, file.name, sep=\"/\"), sep=\"\\t\")\n",
    "\n",
    "\n",
    "# Save an AusPlots derived Data Frame (generated for pre-processing), using 'write.csv'\n",
    "# =====================================================================================\n",
    "\n",
    "# Compute Basal Area from Raw Basal Wedge data\n",
    "AP.3Sites.BAperPlot = basal_area(AP.data.l$veg.basal, by.spp=FALSE, by.hits=FALSE)\n",
    "\n",
    "# Visualise summary of the retrived Basal Area data\n",
    "summary(AP.3Sites.BAperPlot)\n",
    "\n",
    "# Create Name of the file to be stored (including the date)\n",
    "file.name = paste(\"AP_3Sites_BasalArea\",date.s,sep=\"_\")\n",
    "file.name\n",
    "# Add the \"txt\" extension\n",
    "file.name = paste(file.name,\"csv\",sep=\".\")\n",
    "file.name\n",
    "\n",
    "# Save the Basal Area data to a Text File with columns separated by tabs\n",
    "write.csv(AP.3Sites.BAperPlot, paste(file.path, file.name, sep=\"/\"))\n",
    "\n",
    "\n",
    "# Save an AusPlots retrived list, using 'save'\n",
    "# ============================================\n",
    "\n",
    "# Visualise the Data Frames included in the retrived list containing AusPlots data\n",
    "names(AP.data.l)\n",
    "\n",
    "# Create Name of the file to be stored (including the date)\n",
    "file.name = paste(\"AP_3Sites_SiteVegInfo\",date.s,sep=\"_\")\n",
    "file.name\n",
    "# Add the \"txt\" extension\n",
    "file.name = paste(file.name,\"RData\",sep=\".\")\n",
    "file.name\n",
    "\n",
    "# Save the list containing all retrived AusPlots data\n",
    "save(AP.data.l, file=paste(file.path, file.name, sep=\"/\"))\n",
    "#load(file=paste(file.path, file.name, sep=\"/\"))"
   ]
  }
 ],
 "metadata": {
  "kernelspec": {
   "display_name": "Environment (conda_r_r35)",
   "language": "r",
   "name": "conda_r_r35"
  },
  "language_info": {
   "codemirror_mode": "r",
   "file_extension": ".r",
   "mimetype": "text/x-r-source",
   "name": "R",
   "pygments_lexer": "r",
   "version": "3.5.1"
  }
 },
 "nbformat": 4,
 "nbformat_minor": 2
}
