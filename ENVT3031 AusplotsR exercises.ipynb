{
 "cells": [
  {
   "cell_type": "markdown",
   "metadata": {},
   "source": [
    "# ENVT3031 Practical 1: Accessing TERN Surveillance data with R"
   ]
  },
  {
   "cell_type": "markdown",
   "metadata": {},
   "source": [
    "This tutorial is modified from the \"'AusplotsR' Package and AusPlots Data Basics\"\n",
    "\n",
    "* Blanco-Martin, Bernardo (2019). Tutorial: \"'AusplotsR' Package and AusPlots Data Basics\". Terrestrial Ecology Research Network. Version 2019.06.0, June 2019. https://github.com/ternaustralia/TERN-Data-Skills/tree/master/EcosystemSurveillance_PlotData/AusPplots_BasicTutorial"
   ]
  },
  {
   "cell_type": "markdown",
   "metadata": {},
   "source": [
    "`ausplotsR` is an R package for live extraction and preparation of TERN AusPlots ecosystem monitoring data. Through `ausplotsR`, users can: \n",
    "* Directly obtain plot-based data on vegetation and soils across Australia\n",
    "* Preprocess these data into structures that facilitate the visualisation and analysis of ausplots data\n",
    "\n",
    "Data preprocessing includes the computation of:\n",
    "* Species occurrence\n",
    "* Vegetation fractional and single cover\n",
    "* Growth form\n",
    "* Basal area (see below for details)\n"
   ]
  },
  {
   "cell_type": "markdown",
   "metadata": {},
   "source": [
    "\n",
    "### The `ausplotsR` package currently includes 6 functions:\n",
    "\n",
    "* `get_ausplots`: Extracts AusPlots data in R. The stating point for any AusPlots data exploration and analysis in R. \n",
    "* `species_table`: Generates species occurrence matrices using the chosen scoring method (i.e. presence/absence, cover, frequencey, or IVI index) from a data frame of individual raw intercept hits (generated from AusPlots data using the `get_ausplots` function).\n",
    "* `fractional_cover`: Calculates fractional cover (i.e., the proportional cover of green vegetation, dead vegetation and bare substrate) from a data frame of individual raw intercept hits (generated from AusPlots data using the `get_ausplots` function).\n",
    "* `growth_form_table`: Generates occurrence matrices for NVIS plant growth forms in plots using the chosen scoring method (i.e. presence/absence, percent cover or species richness -number of species assigned to a particular growth form-) from a data frame of individual raw intercept hits (generated from AusPlots data using the `get_ausplots` function).\n",
    "* `single_cover_value`: Calculates a total vegetation cover by height and/or growh form per site from a data frame of individual raw intercept hits (generated from AusPlots data using the `get_ausplots` function). In this fucntion cover can be subsetted to vegetation over a specified height and/or by plant growth forms. By default, vegetation cover is calculated per plot for tree growth forms of 5 metres or higher (i.e. forests).\n",
    "* `basal_area`: Calculates basal area (or number of basal wedge hits) for each plot using the raw basal wedge data (generated from AusPlots data using the `get_ausplots` function).\n"
   ]
  },
  {
   "cell_type": "markdown",
   "metadata": {},
   "source": [
    "# INSTALLING and LOADING `ausplotsR`\n",
    "R libraries need to be installed and loaded before they can be used in the R environment. \n",
    "### Installing\n",
    "However, we are running R within the ecocloud enviornment which already has 'ausplotsR' installed. So we do not have to install it in this instance. If you are trying to complete these excersises in a different computer environment I suggest you see the examples in the \"'AusplotsR' Package and AusPlots Data Basics\" (see link above).\n",
    "### Loading 'ausplotsR'\n",
    "All libraries that are used in R must be loaded before they are available. This is achieved through the simple command below."
   ]
  },
  {
   "cell_type": "code",
   "execution_count": 1,
   "metadata": {},
   "outputs": [
    {
     "name": "stderr",
     "output_type": "stream",
     "text": [
      "Loading required package: plyr\n",
      "Loading required package: R.utils\n",
      "Loading required package: R.oo\n",
      "Loading required package: R.methodsS3\n",
      "R.methodsS3 v1.7.1 (2016-02-15) successfully loaded. See ?R.methodsS3 for help.\n",
      "R.oo v1.22.0 (2018-04-21) successfully loaded. See ?R.oo for help.\n",
      "\n",
      "Attaching package: ‘R.oo’\n",
      "\n",
      "The following objects are masked from ‘package:methods’:\n",
      "\n",
      "    getClasses, getMethods\n",
      "\n",
      "The following objects are masked from ‘package:base’:\n",
      "\n",
      "    attach, detach, gc, load, save\n",
      "\n",
      "R.utils v2.9.0 successfully loaded. See ?R.utils for help.\n",
      "\n",
      "Attaching package: ‘R.utils’\n",
      "\n",
      "The following object is masked from ‘package:utils’:\n",
      "\n",
      "    timestamp\n",
      "\n",
      "The following objects are masked from ‘package:base’:\n",
      "\n",
      "    cat, commandArgs, getOption, inherits, isOpen, parse, warnings\n",
      "\n",
      "Loading required package: simba\n",
      "Loading required package: vegan\n",
      "Loading required package: permute\n",
      "\n",
      "Attaching package: ‘permute’\n",
      "\n",
      "The following object is masked from ‘package:R.oo’:\n",
      "\n",
      "    check\n",
      "\n",
      "Loading required package: lattice\n",
      "This is vegan 2.5-5\n",
      "This is simba 0.3-5\n",
      "\n",
      "Attaching package: ‘simba’\n",
      "\n",
      "The following object is masked from ‘package:stats’:\n",
      "\n",
      "    mad\n",
      "\n",
      "Loading required package: httr\n",
      "Loading required package: jsonlite\n",
      "\n",
      "Attaching package: ‘jsonlite’\n",
      "\n",
      "The following object is masked from ‘package:R.utils’:\n",
      "\n",
      "    validate\n",
      "\n",
      "Loading required package: jose\n",
      "Loading required package: openssl\n",
      "Warning message:\n",
      "“replacing previous import ‘R.utils::validate’ by ‘jsonlite::validate’ when loading ‘ausplotsR’”"
     ]
    }
   ],
   "source": [
    "## Load the package\n",
    "library(ausplotsR)"
   ]
  },
  {
   "cell_type": "markdown",
   "metadata": {},
   "source": [
    "Help on the `ausplotsR` package and a vignette with a guide on how to use the package can be obtained with the code below"
   ]
  },
  {
   "cell_type": "code",
   "execution_count": null,
   "metadata": {},
   "outputs": [],
   "source": [
    "#help(ausplotsR)\n",
    "#browseVignettes(package=\"ausplotsR\")"
   ]
  },
  {
   "cell_type": "markdown",
   "metadata": {},
   "source": [
    "# Part 1: OBTAIN & EXPLORE AusPlots DATA: `get_ausplots` function\n",
    "\n",
    "The `get_ausplots` function extracts and compiles AusPlots data. \n",
    "\n",
    "Data of specific types, sites, geographical locations, and/or species can be requested via the function arguments.\n",
    "\n",
    "*DATA TYPES:* Up to 8 different types of data can be obtained by setting the corresponding arguments to TRUE/FALSE:\n",
    "\n",
    "  * `site_info`: Site summary data. Includes (among others): plot and visit details, landform data, geographic coordinates, and notes. Included by default. Site summary data are stored in the `site.info` data frame.\n",
    "  * `structural_summaries`: Site vegetation structural summaries. Site vegetation structural summary data are stored in the `struct.summ` data frame.\n",
    "  * `veg.vouchers`: Complete set of species records for the plot determined by a herbarium plus ID numbers for silica-dried tissue samples. Included by default. Vegetation vouchers data are stored in the `veg.vouch` data frame. \n",
    "  * `veg.PI`: Point Intercept (PI) data. Includes data on: substrate, plant species, growth form and height, etc at each of (typically) 1010 points per plot. Included by default. Vegetation point intercept data are stored in the `veg.PI` data frame.\n",
    "  * `basal.wedge`: Basal Wedge Data Raw Hits. These data are required for the calculation of Basal Area by Species by Plot. Basal wedge data are stored in the `veg.basal` data frame.\n",
    "  * `soil_subsites`: Information on what soil and soil metagenomics samples were taken at nine locations across the plot and their identification barcode numbers. Soil and soil metagenomics data are stored in the `soil.subsites` data frame. \n",
    "  * `soil_bulk_density`: Soil bulk density. Soil bulk density data are stored in the `soil.bulk` data frame.\n",
    "  * `soil_character`: Soil characterisation and sample ID data at 10 cm increments to a depth of 1 m. Soil characterisation and sample ID data are stored in the `soil.char` data frame.\n",
    "\n",
    "*SPATIAL FILTERING:* AusPlot data can be spatially subset via the `get_ausplots` function arguments in two ways:\n",
    "\n",
    "  * `my.Plot_IDs`: Character vector with the plots IDs of specific AusPlots plots. \n",
    "  * `bounding_box`: Spatial filter for selecting AusPlots based on a rectangular box, in the format of e.g. c(xmin, xmax, ymin, ymax). AusPlots spatial data are are in longlat, thus x is the longitude and y is the latitude of the box/extent object (e.g., c(120, 140, -30, -10)).  "
   ]
  },
  {
   "cell_type": "markdown",
   "metadata": {},
   "source": [
    "## Example 1: In this example we download all the available data at three ausplot sites\n",
    "\n",
    "* The following code makes an extracts all availalbe data from the database for three sites in SA, Qld. and the NT\n",
    "* The code puts the extracted data into the 'list object' called 'AP.data'\n",
    "* AP.data contains a series of data frames (fancy R tables) that we will explore in the rest of the practical"
   ]
  },
  {
   "cell_type": "code",
   "execution_count": 2,
   "metadata": {},
   "outputs": [
    {
     "name": "stdout",
     "output_type": "stream",
     "text": [
      "User-supplied Plot_IDs located. \n"
     ]
    }
   ],
   "source": [
    "# Obtain the data ('site_info', 'veg.vouchers', and 'veg.PI' are retrieve by default)\n",
    "AP.data = get_ausplots( my.Plot_IDs=c(\"SATFLB0004\", \"QDAMGD0022\", \"NTASTU0002\"),\n",
    "                        structural_summaries=TRUE, basal.wedge=TRUE,\n",
    "                        soil_subsites=TRUE, soil_bulk_density=TRUE, soil_character=TRUE  )"
   ]
  },
  {
   "cell_type": "markdown",
   "metadata": {},
   "source": [
    "* Explore retrieved data by running the subsequent cells and thinking about what is returned"
   ]
  },
  {
   "cell_type": "code",
   "execution_count": 3,
   "metadata": {},
   "outputs": [
    {
     "data": {
      "text/html": [
       "'list'"
      ],
      "text/latex": [
       "'list'"
      ],
      "text/markdown": [
       "'list'"
      ],
      "text/plain": [
       "[1] \"list\""
      ]
     },
     "metadata": {},
     "output_type": "display_data"
    }
   ],
   "source": [
    "# By typeing class(AP.data) we are told that the data structure is a 'list'\n",
    "class(AP.data)"
   ]
  },
  {
   "cell_type": "code",
   "execution_count": 4,
   "metadata": {},
   "outputs": [
    {
     "data": {
      "text/plain": [
       "              Length Class      Mode     \n",
       "site.info     43     data.frame list     \n",
       "struct.summ   15     data.frame list     \n",
       "soil.subsites 12     data.frame list     \n",
       "soil.bulk     15     data.frame list     \n",
       "soil.char     34     data.frame list     \n",
       "veg.basal     10     data.frame list     \n",
       "veg.vouch     12     data.frame list     \n",
       "veg.PI        13     data.frame list     \n",
       "citation       1     -none-     character"
      ]
     },
     "metadata": {},
     "output_type": "display_data"
    }
   ],
   "source": [
    "# By running 'summary(AP.data)' we are given a summary of the list\n",
    "summary(AP.data)\n",
    "\n",
    "# You can see that there are 7 different data frames\n",
    "# These data frames match what is listed under Part 1 above"
   ]
  },
  {
   "cell_type": "markdown",
   "metadata": {},
   "source": [
    "* We can use the dollar sign ($) to get data from a lower level in the list object"
   ]
  },
  {
   "cell_type": "code",
   "execution_count": 5,
   "metadata": {},
   "outputs": [],
   "source": [
    "# The following code isolates one of the data frames in AP.data\n",
    "AP.data.siteinfo = AP.data$site.info"
   ]
  },
  {
   "cell_type": "code",
   "execution_count": 6,
   "metadata": {},
   "outputs": [
    {
     "data": {
      "text/html": [
       "'data.frame'"
      ],
      "text/latex": [
       "'data.frame'"
      ],
      "text/markdown": [
       "'data.frame'"
      ],
      "text/plain": [
       "[1] \"data.frame\""
      ]
     },
     "metadata": {},
     "output_type": "display_data"
    }
   ],
   "source": [
    "# We can use the same code as above to examine the new object\n",
    "# Notice that now the output is a data frame\n",
    "class(AP.data.siteinfo)"
   ]
  },
  {
   "cell_type": "code",
   "execution_count": 7,
   "metadata": {},
   "outputs": [
    {
     "data": {
      "text/plain": [
       " site_location_name established_date   description        bioregion_name    \n",
       " Length:4           Length:4           Length:4           Length:4          \n",
       " Class :character   Class :character   Class :character   Class :character  \n",
       " Mode  :character   Mode  :character   Mode  :character   Mode  :character  \n",
       "                                                                            \n",
       "                                                                            \n",
       "                                                                            \n",
       " landform_pattern   landform_element    site_slope        site_aspect       \n",
       " Length:4           Length:4           Length:4           Length:4          \n",
       " Class :character   Class :character   Class :character   Class :character  \n",
       " Mode  :character   Mode  :character   Mode  :character   Mode  :character  \n",
       "                                                                            \n",
       "                                                                            \n",
       "                                                                            \n",
       "   comments         outcrop_lithology  other_outcrop_lithology\n",
       " Length:4           Length:4           Length:4               \n",
       " Class :character   Class :character   Class :character       \n",
       " Mode  :character   Mode  :character   Mode  :character       \n",
       "                                                              \n",
       "                                                              \n",
       "                                                              \n",
       " plot_dimensions    site_location_visit_id visit_start_date  \n",
       " Length:4           Min.   :53501          Length:4          \n",
       " Class :character   1st Qu.:53654          Class :character  \n",
       " Mode  :character   Median :56067          Mode  :character  \n",
       "                    Mean   :56073                            \n",
       "                    3rd Qu.:58486                            \n",
       "                    Max.   :58658                            \n",
       " visit_end_date     visit_notes        location_description erosion_type      \n",
       " Length:4           Length:4           Length:4             Length:4          \n",
       " Class :character   Class :character   Class :character     Class :character  \n",
       " Mode  :character   Mode  :character   Mode  :character     Mode  :character  \n",
       "                                                                              \n",
       "                                                                              \n",
       "                                                                              \n",
       " erosion_abundance  erosion_state      microrelief        drainage_type \n",
       " Length:4           Length:4           Length:4           Min.   :3.00  \n",
       " Class :character   Class :character   Class :character   1st Qu.:3.75  \n",
       " Mode  :character   Mode  :character   Mode  :character   Median :4.00  \n",
       "                                                          Mean   :4.25  \n",
       "                                                          3rd Qu.:4.50  \n",
       "                                                          Max.   :6.00  \n",
       " disturbance        climatic_condition vegetation_condition  observer_veg  \n",
       " Length:4           Length:4           Length:4             Min.   : 1.00  \n",
       " Class :character   Class :character   Class :character     1st Qu.: 1.00  \n",
       " Mode  :character   Mode  :character   Mode  :character     Median : 2.00  \n",
       "                                                            Mean   : 5.25  \n",
       "                                                            3rd Qu.: 6.25  \n",
       "                                                            Max.   :16.00  \n",
       " observer_soil    described_by   pit_marker_easting pit_marker_northing\n",
       " Min.   : 1.00   Min.   : 1.00   Min.   :268527     Min.   :6531518    \n",
       " 1st Qu.: 1.75   1st Qu.: 1.00   1st Qu.:268528     1st Qu.:6531562    \n",
       " Median : 2.00   Median : 2.00   Median :297396     Median :7028963    \n",
       " Mean   : 9.00   Mean   : 5.25   Mean   :348222     Mean   :7211381    \n",
       " 3rd Qu.: 9.25   3rd Qu.: 6.25   3rd Qu.:377091     3rd Qu.:7708782    \n",
       " Max.   :31.00   Max.   :16.00   Max.   :529568     Max.   :8256078    \n",
       " pit_marker_mga_zones pit_marker_datum   pit_marker_location_method\n",
       " Min.   :53.0         Length:4           Length:4                  \n",
       " 1st Qu.:53.0         Class :character   Class :character          \n",
       " Median :53.5         Mode  :character   Mode  :character          \n",
       " Mean   :53.5                                                      \n",
       " 3rd Qu.:54.0                                                      \n",
       " Max.   :54.0                                                      \n",
       " soil_observation_type    a_s_c           plot_is_100m_by_100m\n",
       " Length:4              Length:4           Mode:logical        \n",
       " Class :character      Class :character   TRUE:4              \n",
       " Mode  :character      Mode  :character                       \n",
       "                                                              \n",
       "                                                              \n",
       "                                                              \n",
       " plot_is_aligned_to_grid plot_is_permanently_marked    latitude     \n",
       " Mode:logical            Mode:logical               Min.   :-31.33  \n",
       " TRUE:4                  TRUE:4                     1st Qu.:-31.33  \n",
       "                                                    Median :-26.85  \n",
       "                                                    Mean   :-25.20  \n",
       "                                                    3rd Qu.:-20.72  \n",
       "                                                    Max.   :-15.77  \n",
       "   longitude        point              state           site_unique       \n",
       " Min.   :133.4   Length:4           Length:4           Length:4          \n",
       " 1st Qu.:137.3   Class :character   Class :character   Class :character  \n",
       " Median :138.6   Mode  :character   Mode  :character   Mode  :character  \n",
       " Mean   :138.0                                                           \n",
       " 3rd Qu.:139.2                                                           \n",
       " Max.   :141.3                                                           "
      ]
     },
     "metadata": {},
     "output_type": "display_data"
    }
   ],
   "source": [
    "# Data frames have rows and columns - just like an excel spreadsheet\n",
    "# The rows in the data frame are each of the ausplot sites\n",
    "# The columns in the data frame are the different properties at each of those sites\n",
    "# When we ask for the summary of the data frame we are given all the column headings of the data frame \n",
    "summary(AP.data.siteinfo)"
   ]
  },
  {
   "cell_type": "code",
   "execution_count": 8,
   "metadata": {},
   "outputs": [
    {
     "data": {
      "text/html": [
       "4"
      ],
      "text/latex": [
       "4"
      ],
      "text/markdown": [
       "4"
      ],
      "text/plain": [
       "[1] 4"
      ]
     },
     "metadata": {},
     "output_type": "display_data"
    }
   ],
   "source": [
    "# We can also lsee how many plots there are in the data frame by asking how many rows there are with the following\n",
    "nrow(AP.data.siteinfo)"
   ]
  },
  {
   "cell_type": "markdown",
   "metadata": {},
   "source": [
    "* It is also useful to save data frames off as another format such as csv\n",
    "* Use the code below to save the new data frame to csv"
   ]
  },
  {
   "cell_type": "code",
   "execution_count": 9,
   "metadata": {},
   "outputs": [],
   "source": [
    "# Save an AusPlots derived Data Frame (generated for pre-processing), using 'write.csv'\n",
    "# =====================================================================================\n",
    "\n",
    "# Provide Path for Directory where data will be stored\n",
    "file.path = \"workspace\"\n",
    "\n",
    "# Create Name of the file to be stored\n",
    "file.name.sting = \"site.info\" #############  TYPE HERE WHAT YOU WANT TO CALL YOUR FILE\n",
    "# Add the \"txt\" extension\n",
    "file.name = paste(file.name.sting,\"csv\",sep=\".\")\n",
    "\n",
    "# Save the Basal Area data to a Text File with columns separated by tabs\n",
    "write.csv(AP.data.siteinfo, paste(file.path, file.name, sep=\"/\"))"
   ]
  },
  {
   "cell_type": "markdown",
   "metadata": {},
   "source": [
    "## Example 2: In this example we extract data for Adelaide and its sourrounding area\n",
    "\n",
    "* The following code extracts data for Adelaide (34.92866S  138.59863E) and its sourrounding area\n",
    "* This time the code puts the extracted data into the 'list object' called 'AP.data.AdelReg'"
   ]
  },
  {
   "cell_type": "code",
   "execution_count": 10,
   "metadata": {},
   "outputs": [],
   "source": [
    "# 'site_info', 'veg.vouchers', and 'veg.PI' data retrived for Adelaide (34.92866S  138.59863E) and its sourrounding area\n",
    "# Notice that we do not ask for structural_summaries, basal.wedge, soil_subsites, soil_bulk_density or soil_character like we did in the first example\n",
    "AP.data.AdelReg = get_ausplots(bounding_box=c(138.1, 139.1, -34.5, -35.5))"
   ]
  },
  {
   "cell_type": "code",
   "execution_count": 11,
   "metadata": {},
   "outputs": [
    {
     "data": {
      "text/html": [
       "'list'"
      ],
      "text/latex": [
       "'list'"
      ],
      "text/markdown": [
       "'list'"
      ],
      "text/plain": [
       "[1] \"list\""
      ]
     },
     "metadata": {},
     "output_type": "display_data"
    },
    {
     "data": {
      "text/plain": [
       "          Length Class      Mode     \n",
       "site.info 43     data.frame list     \n",
       "veg.vouch 12     data.frame list     \n",
       "veg.PI    13     data.frame list     \n",
       "citation   1     -none-     character"
      ]
     },
     "metadata": {},
     "output_type": "display_data"
    }
   ],
   "source": [
    "# Using the same commands that we used before explore the new output\n",
    "class(AP.data.AdelReg)  \n",
    "summary(AP.data.AdelReg)"
   ]
  },
  {
   "cell_type": "code",
   "execution_count": 12,
   "metadata": {},
   "outputs": [],
   "source": [
    "# Make a separate data frame of veg.vouch \n",
    "AP.data.AdelReg.vegvouch = AP.data.AdelReg$veg.vouch"
   ]
  },
  {
   "cell_type": "code",
   "execution_count": 13,
   "metadata": {},
   "outputs": [
    {
     "data": {
      "text/html": [
       "'data.frame'"
      ],
      "text/latex": [
       "'data.frame'"
      ],
      "text/markdown": [
       "'data.frame'"
      ],
      "text/plain": [
       "[1] \"data.frame\""
      ]
     },
     "metadata": {},
     "output_type": "display_data"
    },
    {
     "data": {
      "text/plain": [
       " site_location_name veg_barcode        herbarium_determination\n",
       " Length:36511       Length:36511       Length:36511           \n",
       " Class :character   Class :character   Class :character       \n",
       " Mode  :character   Mode  :character   Mode  :character       \n",
       "                                                              \n",
       "                                                              \n",
       "                                                              \n",
       " is_uncertain_determination visit_start_date   site_location_visit_id\n",
       " Mode :logical              Length:36511       Min.   :53438         \n",
       " FALSE:31369                Class :character   1st Qu.:53629         \n",
       " TRUE :2854                 Mode  :character   Median :56969         \n",
       " NA's :2288                                    Mean   :56060         \n",
       "                                               3rd Qu.:58432         \n",
       "                                               Max.   :58704         \n",
       " primary_gen_barcode secondary_gen_barcode_1 secondary_gen_barcode_2\n",
       " Length:36511        Length:36511            Length:36511           \n",
       " Class :character    Class :character        Class :character       \n",
       " Mode  :character    Mode  :character        Mode  :character       \n",
       "                                                                    \n",
       "                                                                    \n",
       "                                                                    \n",
       " secondary_gen_barcode_3 secondary_gen_barcode_4 site_unique       \n",
       " Length:36511            Length:36511            Length:36511      \n",
       " Class :character        Class :character        Class :character  \n",
       " Mode  :character        Mode  :character        Mode  :character  \n",
       "                                                                   \n",
       "                                                                   \n",
       "                                                                   "
      ]
     },
     "metadata": {},
     "output_type": "display_data"
    }
   ],
   "source": [
    "# Using the same commands that we used before explore the new output\n",
    "class(AP.data.AdelReg.vegvouch)  \n",
    "summary(AP.data.AdelReg.vegvouch)"
   ]
  },
  {
   "cell_type": "code",
   "execution_count": 14,
   "metadata": {},
   "outputs": [],
   "source": [
    "# Save an AusPlots derived Data Frame (generated for pre-processing), using 'write.csv'\n",
    "# =====================================================================================\n",
    "\n",
    "# Provide Path for Directory where data will be stored\n",
    "file.path = \"workspace\"\n",
    "\n",
    "# Create Name of the file to be stored\n",
    "file.name.sting = \"veg.vouch\" #############  TYPE HERE WHAT YOU WANT TO CALL YOUR FILE\n",
    "# Add the \"txt\" extension\n",
    "file.name = paste(file.name.sting,\"csv\",sep=\".\")\n",
    "\n",
    "# Save the Basal Area data to a Text File with columns separated by tabs\n",
    "write.csv(AP.data.AdelReg.vegvouch, paste(file.path, file.name, sep=\"/\"))"
   ]
  },
  {
   "cell_type": "markdown",
   "metadata": {},
   "source": [
    "## Example 3A: Get data for a transect in South Australia"
   ]
  },
  {
   "cell_type": "code",
   "execution_count": 15,
   "metadata": {},
   "outputs": [],
   "source": [
    "# make a list of sites\n",
    "transect_list <- c('SATEYB0001', 'SATEYB0002', 'SATFLB0001', 'SATFLB0002', 'SATFLB0003', 'SATFLB0004', 'SATFLB0005', 'SATFLB0006', \n",
    "                   'SATFLB0007', 'SATFLB0008', 'SATFLB0009', 'SATFLB0010', 'SATFLB0011', 'SATFLB0012', 'SATFLB0013', 'SATFLB0014', \n",
    "                   'SATFLB0015', 'SATFLB0016', 'SATFLB0017', 'SATFLB0018', 'SATFLB0019', 'SATFLB0020', 'SATFLB0021', 'SATFLB0022', \n",
    "                   'SATFLB0023', 'SATFLB0024', 'SATFLB0025', 'SATFLB0026', 'SATFLB0027', 'SATFLB0028', 'SATKAN0001', 'SATKAN0002', \n",
    "                   'SATKAN0003', 'SATKAN0004', 'SATSTP0001', 'SATSTP0002', 'SATSTP0003', 'SATSTP0004', 'SATSTP0005', 'SATSTP0006', \n",
    "                   'SATSTP0007', 'SATSTP0008'\n",
    "                  )"
   ]
  },
  {
   "cell_type": "code",
   "execution_count": 16,
   "metadata": {},
   "outputs": [
    {
     "name": "stdout",
     "output_type": "stream",
     "text": [
      "User-supplied Plot_IDs located. \n"
     ]
    }
   ],
   "source": [
    "# Here we filter by variables in the 'veg.PI' data frame\n",
    "AP.data.transect = get_ausplots( my.Plot_IDs=transect_list, \n",
    "                       structural_summaries=TRUE, \n",
    "                       basal.wedge=TRUE,\n",
    "                       soil_subsites=TRUE, \n",
    "                       soil_bulk_density=TRUE, \n",
    "                       soil_character=TRUE  )"
   ]
  },
  {
   "cell_type": "markdown",
   "metadata": {},
   "source": [
    "# Vegetation Cover data by Growth Form and/or Height\n",
    "## `single_cover_value` function\n",
    "\n",
    "The `single_cover_value` function in the `auplotsR` package calculates Vegetation Cover Values for particular Growth Form Types and/or Height Thresholds per Site from Raw AusPlots Vegetation Point Intercept data. The `growth_form_table` function can also be used to calculate Cover Values for all Vegetation Growth Form Types; however, `single_cover_value` can perform these computations for:\n",
    "* Particular vegetation growth form types (i.e. for individual growth forms or any combination of growth form types).\n",
    "* Vegetation higher that a specified height threshold\n",
    "* Vegetation with any combination of growth form types and minimum height\n",
    "\n",
    "Specifically `single_cover_value` takes the following inputs via its arguments:\n",
    "* `veg.PI`: Raw Vegetation Point Intercept data from AusPlots. A veg.PI data frame generated by the `get_ausplots` function (see above).\n",
    "* `in_canopy_sky`: Method used to calculate Cover. A logical value that indicates whether to use in ‘canopy sky hits’ (i.e. calculate ‘opaque canopy cover’) or ‘projected foliage cover’. The default value, ‘FALSE’, calculates ‘projected foliage cover’. To calculate ‘opaque canopy cover’ the argument must be set to ‘TRUE’.\n",
    "* `by.growth_form`: Whether to calculate Cover for a Subset by Growth Form type. A logical value that indicates whether to subset by growth form type. The default, ‘TRUE’, calculates cover for the growth form types specified in the argument ‘my.growth_forms’ (see next). If set to ‘FALSE’, cover calculations are conducted only for the vegetation sub-set by a provided Minimum Height Threshold.\n",
    "* `my.growth_forms`: Growth Form Types used to Subset Data used for the Cover Calculations. A character vector specifying the growth form types to subset the data used for the cover calculations. Any combination of growth form types can be used. The default, ‘c(\"Tree/Palm\", \"Tree Mallee\")’, is set to represent trees. It applies only when ‘by.growth_form=TRUE’; otherwise, this argument is ignored and only height sub-setting is applied.\n",
    "* `min.height`: Minimum Height Threshold used to Subset Data used for the Cover Calculations. A numeric value indicating the minimum height (in metres) of the vegetation to be included in the subset of the data used for the cover calculations. A height must be always provided. The default, ‘5’, is set up for a cover of trees. It can be set to ‘0’ to ignore height and thus include any plant hit. If set to a ‘negative number’, it will return nonsensical output.\n",
    "\n",
    "The `single_cover_value` function returns a data frame with two columns. The data frame rows correspond to unique sites, while the two columns correspond to the unique site and the percentage cover for the requested subset of vegetation (e.g. “Tree/Palm” higher than '5' metres).\n",
    " \n",
    "When `by.growth_form = FALSE` and `min.height = 0`, the output is nearly the same as the green cover fraction returned by the `fractional_cover` function (see above). The values can differ because ‘fractional_cover’ applies a ‘height rule’ in which the highest intercept at a given point is taken, whereas ‘single_cover_value’ finds any green cover. For example, when dead trees overhang green understorey the values returned by both functions can differ. For general cover purposes, using ‘fractional_cover’ is recommended.  ‘single_cover_value’ is best suited to calculate cover subset by height and growth form.\n"
   ]
  },
  {
   "cell_type": "markdown",
   "metadata": {},
   "source": [
    "## Example 3B: Explore veg cover for the transect in South Australia using the single cover value function"
   ]
  },
  {
   "cell_type": "code",
   "execution_count": 17,
   "metadata": {},
   "outputs": [],
   "source": [
    "# Vegetation Cover of any Growth Form > 0m\n",
    "# ----------------------------------------\n",
    "AP.data.transect.vegPI.gt0 = single_cover_value(AP.data.transect$veg.PI, min.height=0)"
   ]
  },
  {
   "cell_type": "code",
   "execution_count": null,
   "metadata": {},
   "outputs": [],
   "source": [
    "AP.data.transect.vegPI.gt0"
   ]
  },
  {
   "cell_type": "code",
   "execution_count": 20,
   "metadata": {},
   "outputs": [],
   "source": [
    "# Save an AusPlots derived Data Frame using 'write.csv'\n",
    "# =====================================================================================\n",
    "# Provide Path for Directory where data will be stored\n",
    "file.path = \"workspace\"\n",
    "\n",
    "# Create Name of the file to be stored\n",
    "file.name.sting = \"trans.VC.gt0\" #############  TYPE HERE WHAT YOU WANT TO CALL YOUR FILE\n",
    "# Add the \"txt\" extension\n",
    "file.name = paste(file.name.sting,\"csv\",sep=\".\")\n",
    "\n",
    "# Save the veg cover data to a Text File with columns separated by tabs\n",
    "write.csv(AP.data.transect.vegPI.gt0, paste(file.path, file.name, sep=\"/\"))"
   ]
  },
  {
   "cell_type": "code",
   "execution_count": 21,
   "metadata": {},
   "outputs": [],
   "source": [
    "# Vegetation Cover of any Growth Form > 2m\n",
    "# ----------------------------------------\n",
    "AP.data.transect.vegPI.gt2 = single_cover_value(AP.data.transect$veg.PI, min.height=2)"
   ]
  },
  {
   "cell_type": "code",
   "execution_count": 22,
   "metadata": {},
   "outputs": [],
   "source": [
    "# Save an AusPlots derived Data Frame using 'write.csv'\n",
    "# =====================================================================================\n",
    "# Provide Path for Directory where data will be stored\n",
    "file.path = \"workspace\"\n",
    "\n",
    "# Create Name of the file to be stored\n",
    "file.name.sting = \"trans.VC.gt2\" #############  TYPE HERE WHAT YOU WANT TO CALL YOUR FILE\n",
    "# Add the \"txt\" extension\n",
    "file.name = paste(file.name.sting,\"csv\",sep=\".\")\n",
    "\n",
    "# Save the veg cover data to a Text File with columns separated by tabs\n",
    "write.csv(AP.data.transect.vegPI.gt2, paste(file.path, file.name, sep=\"/\"))"
   ]
  },
  {
   "cell_type": "code",
   "execution_count": 23,
   "metadata": {},
   "outputs": [
    {
     "data": {
      "text/html": [
       "<table>\n",
       "<thead><tr><th scope=col>site_unique</th><th scope=col>VCF.gt0</th><th scope=col>VCF.gt2</th><th scope=col>VCG.0to2</th><th scope=col>latitude</th><th scope=col>longitude</th></tr></thead>\n",
       "<tbody>\n",
       "\t<tr><td>SATSTP0005-58639</td><td>23.86           </td><td>23.47           </td><td>0.39            </td><td>-29.45660       </td><td>138.8488        </td></tr>\n",
       "\t<tr><td>SATSTP0005-53513</td><td>14.65           </td><td>13.86           </td><td>0.79            </td><td>-29.45660       </td><td>138.8488        </td></tr>\n",
       "\t<tr><td>SATSTP0004-53512</td><td>18.22           </td><td>18.12           </td><td>0.10            </td><td>-29.79147       </td><td>138.8319        </td></tr>\n",
       "\t<tr><td>SATSTP0004-58642</td><td>25.94           </td><td>25.35           </td><td>0.59            </td><td>-29.79147       </td><td>138.8319        </td></tr>\n",
       "\t<tr><td>SATSTP0003-53511</td><td>32.57           </td><td>31.98           </td><td>0.59            </td><td>-29.75528       </td><td>138.8492        </td></tr>\n",
       "\t<tr><td>SATSTP0003-58638</td><td>31.19           </td><td>30.69           </td><td>0.50            </td><td>-29.75528       </td><td>138.8492        </td></tr>\n",
       "</tbody>\n",
       "</table>\n"
      ],
      "text/latex": [
       "\\begin{tabular}{r|llllll}\n",
       " site\\_unique & VCF.gt0 & VCF.gt2 & VCG.0to2 & latitude & longitude\\\\\n",
       "\\hline\n",
       "\t SATSTP0005-58639 & 23.86            & 23.47            & 0.39             & -29.45660        & 138.8488        \\\\\n",
       "\t SATSTP0005-53513 & 14.65            & 13.86            & 0.79             & -29.45660        & 138.8488        \\\\\n",
       "\t SATSTP0004-53512 & 18.22            & 18.12            & 0.10             & -29.79147        & 138.8319        \\\\\n",
       "\t SATSTP0004-58642 & 25.94            & 25.35            & 0.59             & -29.79147        & 138.8319        \\\\\n",
       "\t SATSTP0003-53511 & 32.57            & 31.98            & 0.59             & -29.75528        & 138.8492        \\\\\n",
       "\t SATSTP0003-58638 & 31.19            & 30.69            & 0.50             & -29.75528        & 138.8492        \\\\\n",
       "\\end{tabular}\n"
      ],
      "text/markdown": [
       "\n",
       "site_unique | VCF.gt0 | VCF.gt2 | VCG.0to2 | latitude | longitude | \n",
       "|---|---|---|---|---|---|\n",
       "| SATSTP0005-58639 | 23.86            | 23.47            | 0.39             | -29.45660        | 138.8488         | \n",
       "| SATSTP0005-53513 | 14.65            | 13.86            | 0.79             | -29.45660        | 138.8488         | \n",
       "| SATSTP0004-53512 | 18.22            | 18.12            | 0.10             | -29.79147        | 138.8319         | \n",
       "| SATSTP0004-58642 | 25.94            | 25.35            | 0.59             | -29.79147        | 138.8319         | \n",
       "| SATSTP0003-53511 | 32.57            | 31.98            | 0.59             | -29.75528        | 138.8492         | \n",
       "| SATSTP0003-58638 | 31.19            | 30.69            | 0.50             | -29.75528        | 138.8492         | \n",
       "\n",
       "\n"
      ],
      "text/plain": [
       "  site_unique      VCF.gt0 VCF.gt2 VCG.0to2 latitude  longitude\n",
       "1 SATSTP0005-58639 23.86   23.47   0.39     -29.45660 138.8488 \n",
       "2 SATSTP0005-53513 14.65   13.86   0.79     -29.45660 138.8488 \n",
       "3 SATSTP0004-53512 18.22   18.12   0.10     -29.79147 138.8319 \n",
       "4 SATSTP0004-58642 25.94   25.35   0.59     -29.79147 138.8319 \n",
       "5 SATSTP0003-53511 32.57   31.98   0.59     -29.75528 138.8492 \n",
       "6 SATSTP0003-58638 31.19   30.69   0.50     -29.75528 138.8492 "
      ]
     },
     "metadata": {},
     "output_type": "display_data"
    }
   ],
   "source": [
    "# Results (> 0m, > 2m, and 0 to 2m) combined in a single Data Frame\n",
    "# -----------------------------------------------------------------\n",
    "AP.data.VC.Height = data.frame(site_unique=AP.data.transect$site.info$site_unique, \n",
    "                               VCF.gt0=AP.data.transect.vegPI.gt0$percentCover, \n",
    "                               VCF.gt2=AP.data.transect.vegPI.gt2$percentCover, \n",
    "                               VCG.0to2=(AP.data.transect.vegPI.gt0$percentCover-AP.data.transect.vegPI.gt2$percentCover),\n",
    "                               latitude=AP.data.transect$site.info$latitude,\n",
    "                               longitude=AP.data.transect$site.info$longitude\n",
    "                              )\n",
    "head(AP.data.VC.Height)"
   ]
  },
  {
   "cell_type": "code",
   "execution_count": 24,
   "metadata": {},
   "outputs": [],
   "source": [
    "# Save an AusPlots derived Data Frame using 'write.csv'\n",
    "# =====================================================================================\n",
    "# Provide Path for Directory where data will be stored\n",
    "file.path = \"workspace\"\n",
    "\n",
    "# Create Name of the file to be stored\n",
    "file.name.sting = \"VCF.Height\" #############  TYPE HERE WHAT YOU WANT TO CALL YOUR FILE\n",
    "# Add the \"txt\" extension\n",
    "file.name = paste(file.name.sting,\"csv\",sep=\".\")\n",
    "\n",
    "# Save the veg cover data to a Text File with columns separated by tabs\n",
    "write.csv(AP.data.VC.Height, paste(file.path, file.name, sep=\"/\"))"
   ]
  },
  {
   "cell_type": "markdown",
   "metadata": {},
   "source": [
    "## Example 3B: Explore vegetation growth form for the South Australian transect"
   ]
  },
  {
   "cell_type": "code",
   "execution_count": 26,
   "metadata": {},
   "outputs": [],
   "source": [
    "# Get a unique list of the vegetation growth forms\n",
    "# The following code says get all the unique values for the column 'growth_form' in the data frame 'AP.data.transect.vegPI'\n",
    "uniq_gowthform = unique(AP.data.transect$veg.PI$growth_form)"
   ]
  },
  {
   "cell_type": "code",
   "execution_count": 27,
   "metadata": {},
   "outputs": [
    {
     "name": "stdout",
     "output_type": "stream",
     "text": [
      " [1] \"Tree/Palm\"     \"Tree Mallee\"   \"Shrub\"         NA             \n",
      " [5] \"Sedge\"         \"Forb\"          \"Tussock grass\" \"Vine\"         \n",
      " [9] \"Epiphyte\"      \"Fern\"          \"Chenopod\"      \"Hummock grass\"\n",
      "[13] \"NC\"            \"Shrub Mallee\"  \"Grass-tree\"    \"Heath-shrub\"  \n",
      "[17] \"Rush\"          \"Bryophyte\"    \n"
     ]
    }
   ],
   "source": [
    "# print the list of unique growth forms\n",
    "print(uniq_gowthform)"
   ]
  },
  {
   "cell_type": "code",
   "execution_count": 29,
   "metadata": {},
   "outputs": [],
   "source": [
    "# Vegetation cover of Tree growth forms > 0m\n",
    "AP.data.transect.vegPI.trees.gt0 = single_cover_value(AP.data.transect$veg.PI, by.growth_form=TRUE, my.growth_forms = c(\"Tree/Palm\", \"Tree Mallee\"), min.height=0)"
   ]
  },
  {
   "cell_type": "markdown",
   "metadata": {},
   "source": [
    "* Save the new data frame (AP.data.transect.vegPI.trees.gt0) as a unique CSV file"
   ]
  },
  {
   "cell_type": "code",
   "execution_count": 30,
   "metadata": {},
   "outputs": [],
   "source": [
    "# make lists of different growth forms\n",
    "ground_list = c(\"Sedge\", \"Forb\", \"Epiphyte\", \"Rush\", \"Bryophyte\", \"Fern\", \"Tussock grass\", \"Grass-tree\", \"Hummock grass\")\n",
    "Shrub_list = c(\"Shrub\", \"Heath-shrub\", \"Shrub Mallee\", \"Chenopod\")\n",
    "grass_list = c(\"Tussock grass\", \"Hummock grass\")"
   ]
  },
  {
   "cell_type": "code",
   "execution_count": 32,
   "metadata": {},
   "outputs": [],
   "source": [
    "# Vegetation cover of Tree growth forms > 0m\n",
    "AP.data.transect.vegPI.shrubs.gt0 = single_cover_value(AP.data.transect$veg.PI, by.growth_form=TRUE, my.growth_forms = Shrub_list, min.height=0)"
   ]
  },
  {
   "cell_type": "markdown",
   "metadata": {},
   "source": [
    "* Save the new data frame (AP.data.transect.vegPI.shrubs.gt0) as a unique CSV file"
   ]
  }
 ],
 "metadata": {
  "kernelspec": {
   "display_name": "Environment (conda_r_r35)",
   "language": "r",
   "name": "conda_r_r35"
  },
  "language_info": {
   "codemirror_mode": "r",
   "file_extension": ".r",
   "mimetype": "text/x-r-source",
   "name": "R",
   "pygments_lexer": "r",
   "version": "3.5.1"
  }
 },
 "nbformat": 4,
 "nbformat_minor": 2
}
